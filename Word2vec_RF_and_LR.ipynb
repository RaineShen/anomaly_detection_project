{
  "nbformat": 4,
  "nbformat_minor": 0,
  "metadata": {
    "colab": {
      "name": "Word2vec_RF_and_LR.ipynb",
      "provenance": [],
      "collapsed_sections": [],
      "machine_shape": "hm"
    },
    "kernelspec": {
      "name": "python3",
      "display_name": "Python 3"
    },
    "language_info": {
      "name": "python"
    }
  },
  "cells": [
    {
      "cell_type": "code",
      "metadata": {
        "id": "H7B8Xm3CVqTj"
      },
      "source": [
        "import tarfile\n",
        "import codecs\n",
        "import numpy as np \n",
        "import pandas as pd\n",
        "from io import BytesIO\n",
        "import json\n",
        "import re\n",
        "import altair as alt\n",
        "import itertools\n",
        "from mlxtend.preprocessing import TransactionEncoder\n",
        "from mlxtend.frequent_patterns import apriori\n",
        "from mlxtend.frequent_patterns import association_rules\n",
        "import matplotlib.pyplot as plt\n",
        "import string\n",
        "import matplotlib.pyplot as plt\n",
        "from sklearn.feature_extraction.text import CountVectorizer\n",
        "from sklearn.feature_extraction import text\n",
        "from collections import Counter\n",
        "from wordcloud import WordCloud\n",
        "import gensim\n",
        "import pickle\n",
        "\n",
        "from sklearn.feature_extraction.text import TfidfVectorizer, TfidfTransformer\n",
        "from sklearn.linear_model import LogisticRegression\n",
        "from sklearn.model_selection import cross_val_score\n",
        "from sklearn.pipeline import make_union\n",
        "from sklearn.model_selection import train_test_split\n",
        "from sklearn.ensemble import RandomForestClassifier\n",
        "from sklearn.feature_selection import SelectFromModel"
      ],
      "execution_count": 1,
      "outputs": []
    },
    {
      "cell_type": "code",
      "metadata": {
        "id": "Xw_3JHHGVwLS",
        "colab": {
          "base_uri": "https://localhost:8080/"
        },
        "outputId": "5a9d1cb3-a0e9-4279-ab1c-182f70782d32"
      },
      "source": [
        "from google.colab import drive\n",
        "drive.mount('/content/data586_Project')"
      ],
      "execution_count": 2,
      "outputs": [
        {
          "output_type": "stream",
          "text": [
            "Mounted at /content/data586_Project\n"
          ],
          "name": "stdout"
        }
      ]
    },
    {
      "cell_type": "markdown",
      "metadata": {
        "id": "YT28PlYIV1Fc"
      },
      "source": [
        "**Describe Dataset**\n",
        "\n",
        "Response variable: Label - Either the log is normal or anomaly"
      ]
    },
    {
      "cell_type": "code",
      "metadata": {
        "id": "yj68pzj7Vy2M",
        "colab": {
          "base_uri": "https://localhost:8080/",
          "height": 204
        },
        "outputId": "56b6e7ee-0582-4b0d-fdf4-1166a3d13b31"
      },
      "source": [
        "df = pd.read_csv('/content/data586_Project/MyDrive/DATA586_Project/processed_log.csv')\n",
        "df.head()"
      ],
      "execution_count": null,
      "outputs": [
        {
          "output_type": "execute_result",
          "data": {
            "text/html": [
              "<div>\n",
              "<style scoped>\n",
              "    .dataframe tbody tr th:only-of-type {\n",
              "        vertical-align: middle;\n",
              "    }\n",
              "\n",
              "    .dataframe tbody tr th {\n",
              "        vertical-align: top;\n",
              "    }\n",
              "\n",
              "    .dataframe thead th {\n",
              "        text-align: right;\n",
              "    }\n",
              "</style>\n",
              "<table border=\"1\" class=\"dataframe\">\n",
              "  <thead>\n",
              "    <tr style=\"text-align: right;\">\n",
              "      <th></th>\n",
              "      <th>Date</th>\n",
              "      <th>Time</th>\n",
              "      <th>Pid</th>\n",
              "      <th>Level</th>\n",
              "      <th>Component</th>\n",
              "      <th>Content</th>\n",
              "      <th>BlockId</th>\n",
              "    </tr>\n",
              "  </thead>\n",
              "  <tbody>\n",
              "    <tr>\n",
              "      <th>0</th>\n",
              "      <td>81109</td>\n",
              "      <td>203518</td>\n",
              "      <td>143</td>\n",
              "      <td>INFO</td>\n",
              "      <td>dfs.DataNode$DataXceiver</td>\n",
              "      <td>Receiving block blk_-1608999687919862906 src: ...</td>\n",
              "      <td>1608999687919862906</td>\n",
              "    </tr>\n",
              "    <tr>\n",
              "      <th>1</th>\n",
              "      <td>81109</td>\n",
              "      <td>203518</td>\n",
              "      <td>35</td>\n",
              "      <td>INFO</td>\n",
              "      <td>dfs.FSNamesystem</td>\n",
              "      <td>BLOCK* NameSystem.allocateBlock: /mnt/hadoop/m...</td>\n",
              "      <td>1608999687919862906</td>\n",
              "    </tr>\n",
              "    <tr>\n",
              "      <th>2</th>\n",
              "      <td>81109</td>\n",
              "      <td>203519</td>\n",
              "      <td>143</td>\n",
              "      <td>INFO</td>\n",
              "      <td>dfs.DataNode$DataXceiver</td>\n",
              "      <td>Receiving block blk_-1608999687919862906 src: ...</td>\n",
              "      <td>1608999687919862906</td>\n",
              "    </tr>\n",
              "    <tr>\n",
              "      <th>3</th>\n",
              "      <td>81109</td>\n",
              "      <td>203519</td>\n",
              "      <td>145</td>\n",
              "      <td>INFO</td>\n",
              "      <td>dfs.DataNode$DataXceiver</td>\n",
              "      <td>Receiving block blk_-1608999687919862906 src: ...</td>\n",
              "      <td>1608999687919862906</td>\n",
              "    </tr>\n",
              "    <tr>\n",
              "      <th>4</th>\n",
              "      <td>81109</td>\n",
              "      <td>203519</td>\n",
              "      <td>145</td>\n",
              "      <td>INFO</td>\n",
              "      <td>dfs.DataNode$PacketResponder</td>\n",
              "      <td>PacketResponder 1 for block blk_-1608999687919...</td>\n",
              "      <td>1608999687919862906</td>\n",
              "    </tr>\n",
              "  </tbody>\n",
              "</table>\n",
              "</div>"
            ],
            "text/plain": [
              "    Date  ...              BlockId\n",
              "0  81109  ...  1608999687919862906\n",
              "1  81109  ...  1608999687919862906\n",
              "2  81109  ...  1608999687919862906\n",
              "3  81109  ...  1608999687919862906\n",
              "4  81109  ...  1608999687919862906\n",
              "\n",
              "[5 rows x 7 columns]"
            ]
          },
          "metadata": {
            "tags": []
          },
          "execution_count": 3
        }
      ]
    },
    {
      "cell_type": "code",
      "metadata": {
        "colab": {
          "base_uri": "https://localhost:8080/"
        },
        "id": "FcfDSdKR73u8",
        "outputId": "7cdef0fb-99c1-40e0-98c0-13a220ef3c68"
      },
      "source": [
        "df.BlockId.nunique()"
      ],
      "execution_count": null,
      "outputs": [
        {
          "output_type": "execute_result",
          "data": {
            "text/plain": [
              "575061"
            ]
          },
          "metadata": {
            "tags": []
          },
          "execution_count": 5
        }
      ]
    },
    {
      "cell_type": "code",
      "metadata": {
        "id": "aclExQ4g8CcE"
      },
      "source": [
        "event_description=[]\n",
        "for line in df.Content:\n",
        "  # extract only character add description of the event \n",
        "  match=re.findall('[a-zA-Z]+',str(line))\n",
        "  event_description.append(match[0:6])"
      ],
      "execution_count": null,
      "outputs": []
    },
    {
      "cell_type": "code",
      "metadata": {
        "id": "ItHvNdsP9uwJ"
      },
      "source": [
        "df['Event_Description'] = event_description"
      ],
      "execution_count": null,
      "outputs": []
    },
    {
      "cell_type": "code",
      "metadata": {
        "id": "Eync0-S4_SJR"
      },
      "source": [
        "df.to_csv('event_desc.csv', index=False)"
      ],
      "execution_count": null,
      "outputs": []
    },
    {
      "cell_type": "code",
      "metadata": {
        "id": "4M1rbktx_aAY"
      },
      "source": [
        "df = pd.read_csv('/content/data586_Project/MyDrive/DATA586_Project/event_desc.csv')"
      ],
      "execution_count": 3,
      "outputs": []
    },
    {
      "cell_type": "code",
      "metadata": {
        "id": "-QqYwOnM-VFc"
      },
      "source": [
        "df['Event_id'] = df.groupby('Event_Description').ngroup()"
      ],
      "execution_count": 4,
      "outputs": []
    },
    {
      "cell_type": "code",
      "metadata": {
        "colab": {
          "base_uri": "https://localhost:8080/",
          "height": 204
        },
        "id": "vgyHRYiR_peV",
        "outputId": "2c157b21-08d7-4373-b802-60f8b0dfcc4e"
      },
      "source": [
        "df_event = df.iloc[:, 6:8].copy()\n",
        "df_event.head()"
      ],
      "execution_count": 5,
      "outputs": [
        {
          "output_type": "execute_result",
          "data": {
            "text/html": [
              "<div>\n",
              "<style scoped>\n",
              "    .dataframe tbody tr th:only-of-type {\n",
              "        vertical-align: middle;\n",
              "    }\n",
              "\n",
              "    .dataframe tbody tr th {\n",
              "        vertical-align: top;\n",
              "    }\n",
              "\n",
              "    .dataframe thead th {\n",
              "        text-align: right;\n",
              "    }\n",
              "</style>\n",
              "<table border=\"1\" class=\"dataframe\">\n",
              "  <thead>\n",
              "    <tr style=\"text-align: right;\">\n",
              "      <th></th>\n",
              "      <th>BlockId</th>\n",
              "      <th>Event_Description</th>\n",
              "    </tr>\n",
              "  </thead>\n",
              "  <tbody>\n",
              "    <tr>\n",
              "      <th>0</th>\n",
              "      <td>1608999687919862906</td>\n",
              "      <td>['Receiving', 'block', 'blk', 'src', 'dest']</td>\n",
              "    </tr>\n",
              "    <tr>\n",
              "      <th>1</th>\n",
              "      <td>1608999687919862906</td>\n",
              "      <td>['BLOCK', 'NameSystem', 'allocateBlock', 'mnt'...</td>\n",
              "    </tr>\n",
              "    <tr>\n",
              "      <th>2</th>\n",
              "      <td>1608999687919862906</td>\n",
              "      <td>['Receiving', 'block', 'blk', 'src', 'dest']</td>\n",
              "    </tr>\n",
              "    <tr>\n",
              "      <th>3</th>\n",
              "      <td>1608999687919862906</td>\n",
              "      <td>['Receiving', 'block', 'blk', 'src', 'dest']</td>\n",
              "    </tr>\n",
              "    <tr>\n",
              "      <th>4</th>\n",
              "      <td>1608999687919862906</td>\n",
              "      <td>['PacketResponder', 'for', 'block', 'blk', 'te...</td>\n",
              "    </tr>\n",
              "  </tbody>\n",
              "</table>\n",
              "</div>"
            ],
            "text/plain": [
              "               BlockId                                  Event_Description\n",
              "0  1608999687919862906       ['Receiving', 'block', 'blk', 'src', 'dest']\n",
              "1  1608999687919862906  ['BLOCK', 'NameSystem', 'allocateBlock', 'mnt'...\n",
              "2  1608999687919862906       ['Receiving', 'block', 'blk', 'src', 'dest']\n",
              "3  1608999687919862906       ['Receiving', 'block', 'blk', 'src', 'dest']\n",
              "4  1608999687919862906  ['PacketResponder', 'for', 'block', 'blk', 'te..."
            ]
          },
          "metadata": {
            "tags": []
          },
          "execution_count": 5
        }
      ]
    },
    {
      "cell_type": "code",
      "metadata": {
        "colab": {
          "base_uri": "https://localhost:8080/",
          "height": 204
        },
        "id": "R7OmuG7EsyOO",
        "outputId": "b6466ff5-5ad6-4b35-a994-be3a8bb73209"
      },
      "source": [
        "df_event = df.groupby('BlockId')['Event_Description'].apply(sum).reset_index(name='Events')\n",
        "df_event.head()"
      ],
      "execution_count": 6,
      "outputs": [
        {
          "output_type": "execute_result",
          "data": {
            "text/html": [
              "<div>\n",
              "<style scoped>\n",
              "    .dataframe tbody tr th:only-of-type {\n",
              "        vertical-align: middle;\n",
              "    }\n",
              "\n",
              "    .dataframe tbody tr th {\n",
              "        vertical-align: top;\n",
              "    }\n",
              "\n",
              "    .dataframe thead th {\n",
              "        text-align: right;\n",
              "    }\n",
              "</style>\n",
              "<table border=\"1\" class=\"dataframe\">\n",
              "  <thead>\n",
              "    <tr style=\"text-align: right;\">\n",
              "      <th></th>\n",
              "      <th>BlockId</th>\n",
              "      <th>Events</th>\n",
              "    </tr>\n",
              "  </thead>\n",
              "  <tbody>\n",
              "    <tr>\n",
              "      <th>0</th>\n",
              "      <td>24807389905763</td>\n",
              "      <td>['BLOCK', 'NameSystem', 'allocateBlock', 'user...</td>\n",
              "    </tr>\n",
              "    <tr>\n",
              "      <th>1</th>\n",
              "      <td>27644297472372</td>\n",
              "      <td>['Receiving', 'block', 'blk', 'src', 'dest']['...</td>\n",
              "    </tr>\n",
              "    <tr>\n",
              "      <th>2</th>\n",
              "      <td>33380551139732</td>\n",
              "      <td>['BLOCK', 'NameSystem', 'allocateBlock', 'user...</td>\n",
              "    </tr>\n",
              "    <tr>\n",
              "      <th>3</th>\n",
              "      <td>35641716531335</td>\n",
              "      <td>['BLOCK', 'NameSystem', 'allocateBlock', 'user...</td>\n",
              "    </tr>\n",
              "    <tr>\n",
              "      <th>4</th>\n",
              "      <td>40083153975957</td>\n",
              "      <td>['Receiving', 'block', 'blk', 'src', 'dest']['...</td>\n",
              "    </tr>\n",
              "  </tbody>\n",
              "</table>\n",
              "</div>"
            ],
            "text/plain": [
              "          BlockId                                             Events\n",
              "0  24807389905763  ['BLOCK', 'NameSystem', 'allocateBlock', 'user...\n",
              "1  27644297472372  ['Receiving', 'block', 'blk', 'src', 'dest']['...\n",
              "2  33380551139732  ['BLOCK', 'NameSystem', 'allocateBlock', 'user...\n",
              "3  35641716531335  ['BLOCK', 'NameSystem', 'allocateBlock', 'user...\n",
              "4  40083153975957  ['Receiving', 'block', 'blk', 'src', 'dest']['..."
            ]
          },
          "metadata": {
            "tags": []
          },
          "execution_count": 6
        }
      ]
    },
    {
      "cell_type": "code",
      "metadata": {
        "id": "0oiRos0txKXq"
      },
      "source": [
        "df_event['Events'] = df_event['Events'].apply(lambda x: x.replace('][',','))\n",
        "df_event['Events'] = df_event['Events'].apply(lambda x: x.replace(\"'\",\"\"))\n",
        "df_event['Events'] = df_event['Events'].apply(lambda x: x.replace(\" \",\"\"))"
      ],
      "execution_count": 7,
      "outputs": []
    },
    {
      "cell_type": "code",
      "metadata": {
        "id": "2CK-xxp6_gf-"
      },
      "source": [
        "df_event['Events'] = df_event['Events'].apply(lambda x: x[1:-1].split(','))\n",
        "# df_event['Events'] = df_event['Events'].apply(lambda x: x.replace(\"\\n\",\"\").replace('\\r', ''))"
      ],
      "execution_count": 8,
      "outputs": []
    },
    {
      "cell_type": "code",
      "metadata": {
        "id": "6CAWs0pk6Bch"
      },
      "source": [
        "events = []\n",
        "for event in df_event[\"Events\"]:\n",
        "  events.append(event)"
      ],
      "execution_count": 9,
      "outputs": []
    },
    {
      "cell_type": "code",
      "metadata": {
        "id": "DhHvd9XACDXn"
      },
      "source": [
        "df_event.to_csv('BlockId_events.csv', index=False)"
      ],
      "execution_count": null,
      "outputs": []
    },
    {
      "cell_type": "code",
      "metadata": {
        "colab": {
          "base_uri": "https://localhost:8080/",
          "height": 204
        },
        "id": "9RNJkAkK0Zj9",
        "outputId": "7d0447f6-00e6-4148-c7eb-ae9e253fc5d0"
      },
      "source": [
        "df = pd.read_csv('/content/data586_Project/MyDrive/DATA586_Project/BlockId_events.csv')\n",
        "df.head()"
      ],
      "execution_count": 10,
      "outputs": [
        {
          "output_type": "execute_result",
          "data": {
            "text/html": [
              "<div>\n",
              "<style scoped>\n",
              "    .dataframe tbody tr th:only-of-type {\n",
              "        vertical-align: middle;\n",
              "    }\n",
              "\n",
              "    .dataframe tbody tr th {\n",
              "        vertical-align: top;\n",
              "    }\n",
              "\n",
              "    .dataframe thead th {\n",
              "        text-align: right;\n",
              "    }\n",
              "</style>\n",
              "<table border=\"1\" class=\"dataframe\">\n",
              "  <thead>\n",
              "    <tr style=\"text-align: right;\">\n",
              "      <th></th>\n",
              "      <th>BlockId</th>\n",
              "      <th>Events</th>\n",
              "    </tr>\n",
              "  </thead>\n",
              "  <tbody>\n",
              "    <tr>\n",
              "      <th>0</th>\n",
              "      <td>24807389905763</td>\n",
              "      <td>['BLOCK', 'NameSystem', 'allocateBlock', 'user...</td>\n",
              "    </tr>\n",
              "    <tr>\n",
              "      <th>1</th>\n",
              "      <td>27644297472372</td>\n",
              "      <td>['Receiving', 'block', 'blk', 'src', 'dest', '...</td>\n",
              "    </tr>\n",
              "    <tr>\n",
              "      <th>2</th>\n",
              "      <td>33380551139732</td>\n",
              "      <td>['BLOCK', 'NameSystem', 'allocateBlock', 'user...</td>\n",
              "    </tr>\n",
              "    <tr>\n",
              "      <th>3</th>\n",
              "      <td>35641716531335</td>\n",
              "      <td>['BLOCK', 'NameSystem', 'allocateBlock', 'user...</td>\n",
              "    </tr>\n",
              "    <tr>\n",
              "      <th>4</th>\n",
              "      <td>40083153975957</td>\n",
              "      <td>['Receiving', 'block', 'blk', 'src', 'dest', '...</td>\n",
              "    </tr>\n",
              "  </tbody>\n",
              "</table>\n",
              "</div>"
            ],
            "text/plain": [
              "          BlockId                                             Events\n",
              "0  24807389905763  ['BLOCK', 'NameSystem', 'allocateBlock', 'user...\n",
              "1  27644297472372  ['Receiving', 'block', 'blk', 'src', 'dest', '...\n",
              "2  33380551139732  ['BLOCK', 'NameSystem', 'allocateBlock', 'user...\n",
              "3  35641716531335  ['BLOCK', 'NameSystem', 'allocateBlock', 'user...\n",
              "4  40083153975957  ['Receiving', 'block', 'blk', 'src', 'dest', '..."
            ]
          },
          "metadata": {
            "tags": []
          },
          "execution_count": 10
        }
      ]
    },
    {
      "cell_type": "code",
      "metadata": {
        "id": "Uh2c35u4WA4B"
      },
      "source": [
        "label = pd.read_csv('/content/data586_Project/MyDrive/DATA586_Project/anomaly_label.csv')"
      ],
      "execution_count": 11,
      "outputs": []
    },
    {
      "cell_type": "code",
      "metadata": {
        "id": "2SjmdHguWErR"
      },
      "source": [
        "label['BlockId2'] = label.BlockId.str.extract('(\\d+)') \n",
        "label.drop('BlockId', axis=1, inplace=True)"
      ],
      "execution_count": 12,
      "outputs": []
    },
    {
      "cell_type": "code",
      "metadata": {
        "id": "vZnIbd8PWGaA"
      },
      "source": [
        "label.BlockId2 = pd.to_numeric(label.BlockId2, errors='coerce').fillna(0).astype(np.int64)"
      ],
      "execution_count": 13,
      "outputs": []
    },
    {
      "cell_type": "code",
      "metadata": {
        "id": "w7el8Iz6WJAN",
        "colab": {
          "base_uri": "https://localhost:8080/",
          "height": 204
        },
        "outputId": "39f28448-4945-489b-f87f-d82ecee6aa6b"
      },
      "source": [
        "log = pd.merge(df_event, label, left_on='BlockId', right_on='BlockId2', how='left').drop('BlockId2', axis=1)\n",
        "log.head()"
      ],
      "execution_count": 14,
      "outputs": [
        {
          "output_type": "execute_result",
          "data": {
            "text/html": [
              "<div>\n",
              "<style scoped>\n",
              "    .dataframe tbody tr th:only-of-type {\n",
              "        vertical-align: middle;\n",
              "    }\n",
              "\n",
              "    .dataframe tbody tr th {\n",
              "        vertical-align: top;\n",
              "    }\n",
              "\n",
              "    .dataframe thead th {\n",
              "        text-align: right;\n",
              "    }\n",
              "</style>\n",
              "<table border=\"1\" class=\"dataframe\">\n",
              "  <thead>\n",
              "    <tr style=\"text-align: right;\">\n",
              "      <th></th>\n",
              "      <th>BlockId</th>\n",
              "      <th>Events</th>\n",
              "      <th>Label</th>\n",
              "    </tr>\n",
              "  </thead>\n",
              "  <tbody>\n",
              "    <tr>\n",
              "      <th>0</th>\n",
              "      <td>24807389905763</td>\n",
              "      <td>[BLOCK, NameSystem, allocateBlock, user, root,...</td>\n",
              "      <td>Normal</td>\n",
              "    </tr>\n",
              "    <tr>\n",
              "      <th>1</th>\n",
              "      <td>27644297472372</td>\n",
              "      <td>[Receiving, block, blk, src, dest, Receiving, ...</td>\n",
              "      <td>Normal</td>\n",
              "    </tr>\n",
              "    <tr>\n",
              "      <th>2</th>\n",
              "      <td>33380551139732</td>\n",
              "      <td>[BLOCK, NameSystem, allocateBlock, user, root,...</td>\n",
              "      <td>Normal</td>\n",
              "    </tr>\n",
              "    <tr>\n",
              "      <th>3</th>\n",
              "      <td>35641716531335</td>\n",
              "      <td>[BLOCK, NameSystem, allocateBlock, user, root,...</td>\n",
              "      <td>Normal</td>\n",
              "    </tr>\n",
              "    <tr>\n",
              "      <th>4</th>\n",
              "      <td>40083153975957</td>\n",
              "      <td>[Receiving, block, blk, src, dest, BLOCK, Name...</td>\n",
              "      <td>Normal</td>\n",
              "    </tr>\n",
              "  </tbody>\n",
              "</table>\n",
              "</div>"
            ],
            "text/plain": [
              "          BlockId                                             Events   Label\n",
              "0  24807389905763  [BLOCK, NameSystem, allocateBlock, user, root,...  Normal\n",
              "1  27644297472372  [Receiving, block, blk, src, dest, Receiving, ...  Normal\n",
              "2  33380551139732  [BLOCK, NameSystem, allocateBlock, user, root,...  Normal\n",
              "3  35641716531335  [BLOCK, NameSystem, allocateBlock, user, root,...  Normal\n",
              "4  40083153975957  [Receiving, block, blk, src, dest, BLOCK, Name...  Normal"
            ]
          },
          "metadata": {
            "tags": []
          },
          "execution_count": 14
        }
      ]
    },
    {
      "cell_type": "code",
      "metadata": {
        "colab": {
          "base_uri": "https://localhost:8080/"
        },
        "id": "y4EX5eoi00qJ",
        "outputId": "755ded49-5897-49b6-819b-072736e0b020"
      },
      "source": [
        "len(log)"
      ],
      "execution_count": null,
      "outputs": [
        {
          "output_type": "execute_result",
          "data": {
            "text/plain": [
              "575061"
            ]
          },
          "metadata": {
            "tags": []
          },
          "execution_count": 8
        }
      ]
    },
    {
      "cell_type": "code",
      "metadata": {
        "colab": {
          "base_uri": "https://localhost:8080/"
        },
        "id": "woOw4Dg-FRog",
        "outputId": "38e8b20f-0be6-40d1-9875-1b529b9a7686"
      },
      "source": [
        "print(log.Events[1])"
      ],
      "execution_count": null,
      "outputs": [
        {
          "output_type": "stream",
          "text": [
            "['Receiving', 'block', 'blk', 'src', 'dest', 'Receiving', 'block', 'blk', 'src', 'dest', 'Receiving', 'block', 'blk', 'src', 'dest', 'BLOCK', 'NameSystem', 'allocateBlock', 'user', 'root', 'sortrand', 'PacketResponder', 'for', 'block', 'blk', 'terminating', 'Received', 'block', 'blk', 'of', 'size', 'from', 'PacketResponder', 'for', 'block', 'blk', 'terminating', 'Received', 'block', 'blk', 'of', 'size', 'from', 'PacketResponder', 'for', 'block', 'blk', 'terminating', 'Received', 'block', 'blk', 'of', 'size', 'from', 'BLOCK', 'NameSystem', 'addStoredBlock', 'blockMap', 'updated', 'is', 'BLOCK', 'NameSystem', 'addStoredBlock', 'blockMap', 'updated', 'is', 'BLOCK', 'NameSystem', 'addStoredBlock', 'blockMap', 'updated', 'is', 'BLOCK', 'NameSystem', 'delete', 'blk', 'is', 'added', 'BLOCK', 'NameSystem', 'delete', 'blk', 'is', 'added', 'BLOCK', 'NameSystem', 'delete', 'blk', 'is', 'added', 'Deleting', 'block', 'blk', 'file', 'mnt', 'hadoop', 'Deleting', 'block', 'blk', 'file', 'mnt', 'hadoop', 'Deleting', 'block', 'blk', 'file', 'mnt', 'hadoop']\n"
          ],
          "name": "stdout"
        }
      ]
    },
    {
      "cell_type": "code",
      "metadata": {
        "id": "AUdTn6AfFKg8",
        "colab": {
          "base_uri": "https://localhost:8080/",
          "height": 142
        },
        "outputId": "78b1a715-da53-437f-b473-dc002bd01504"
      },
      "source": [
        "log.groupby('Label').count()"
      ],
      "execution_count": null,
      "outputs": [
        {
          "output_type": "execute_result",
          "data": {
            "text/html": [
              "<div>\n",
              "<style scoped>\n",
              "    .dataframe tbody tr th:only-of-type {\n",
              "        vertical-align: middle;\n",
              "    }\n",
              "\n",
              "    .dataframe tbody tr th {\n",
              "        vertical-align: top;\n",
              "    }\n",
              "\n",
              "    .dataframe thead th {\n",
              "        text-align: right;\n",
              "    }\n",
              "</style>\n",
              "<table border=\"1\" class=\"dataframe\">\n",
              "  <thead>\n",
              "    <tr style=\"text-align: right;\">\n",
              "      <th></th>\n",
              "      <th>BlockId</th>\n",
              "      <th>Events</th>\n",
              "    </tr>\n",
              "    <tr>\n",
              "      <th>Label</th>\n",
              "      <th></th>\n",
              "      <th></th>\n",
              "    </tr>\n",
              "  </thead>\n",
              "  <tbody>\n",
              "    <tr>\n",
              "      <th>Anomaly</th>\n",
              "      <td>16838</td>\n",
              "      <td>16838</td>\n",
              "    </tr>\n",
              "    <tr>\n",
              "      <th>Normal</th>\n",
              "      <td>558223</td>\n",
              "      <td>558223</td>\n",
              "    </tr>\n",
              "  </tbody>\n",
              "</table>\n",
              "</div>"
            ],
            "text/plain": [
              "         BlockId  Events\n",
              "Label                   \n",
              "Anomaly    16838   16838\n",
              "Normal    558223  558223"
            ]
          },
          "metadata": {
            "tags": []
          },
          "execution_count": 46
        }
      ]
    },
    {
      "cell_type": "markdown",
      "metadata": {
        "id": "VCnl9o5m1EEc"
      },
      "source": [
        "# **Word2vec Training - Vector Averaging**"
      ]
    },
    {
      "cell_type": "code",
      "metadata": {
        "colab": {
          "base_uri": "https://localhost:8080/"
        },
        "id": "R3h7YhGi1Dgv",
        "outputId": "ddeeaf0d-21b0-4fad-b8fe-6ddb918066b6"
      },
      "source": [
        "import logging\n",
        "logging.basicConfig(format='%(asctime)s : %(levelname)s : %(message)s',\\\n",
        "    level=logging.INFO)\n",
        "\n",
        "num_features = 300    # Word vector dimensionality                      \n",
        "min_word_count = 40   # Minimum word count                        \n",
        "num_workers = 4       # Number of threads to run in parallel\n",
        "context = 10          # Context window size                                                                                    \n",
        "downsampling = 1e-3   # Downsample setting for frequent words\n",
        "\n",
        "# Initialize and train the model\n",
        "from gensim.models import word2vec\n",
        "print (\"Training model...\")\n",
        "model = word2vec.Word2Vec(events, workers=num_workers, \\\n",
        "            size=num_features, min_count = min_word_count, \\\n",
        "            window = context, sample = downsampling)\n",
        "\n",
        "model.init_sims(replace=True)\n",
        "\n",
        "word2vec_1 = \"word2vec_origin\"\n",
        "model.save(word2vec_1)"
      ],
      "execution_count": 15,
      "outputs": [
        {
          "output_type": "stream",
          "text": [
            "2021-05-06 05:43:51,309 : INFO : collecting all words and their counts\n",
            "2021-05-06 05:43:51,311 : INFO : PROGRESS: at sentence #0, processed 0 words, keeping 0 word types\n",
            "2021-05-06 05:43:51,484 : INFO : PROGRESS: at sentence #10000, processed 1088731 words, keeping 69 word types\n"
          ],
          "name": "stderr"
        },
        {
          "output_type": "stream",
          "text": [
            "Training model...\n"
          ],
          "name": "stdout"
        },
        {
          "output_type": "stream",
          "text": [
            "2021-05-06 05:43:51,663 : INFO : PROGRESS: at sentence #20000, processed 2176989 words, keeping 73 word types\n",
            "2021-05-06 05:43:51,847 : INFO : PROGRESS: at sentence #30000, processed 3262924 words, keeping 74 word types\n",
            "2021-05-06 05:43:52,008 : INFO : PROGRESS: at sentence #40000, processed 4346954 words, keeping 75 word types\n",
            "2021-05-06 05:43:52,173 : INFO : PROGRESS: at sentence #50000, processed 5428037 words, keeping 75 word types\n",
            "2021-05-06 05:43:52,347 : INFO : PROGRESS: at sentence #60000, processed 6515740 words, keeping 76 word types\n",
            "2021-05-06 05:43:52,512 : INFO : PROGRESS: at sentence #70000, processed 7601043 words, keeping 78 word types\n",
            "2021-05-06 05:43:52,682 : INFO : PROGRESS: at sentence #80000, processed 8690870 words, keeping 78 word types\n",
            "2021-05-06 05:43:52,851 : INFO : PROGRESS: at sentence #90000, processed 9773669 words, keeping 78 word types\n",
            "2021-05-06 05:43:53,013 : INFO : PROGRESS: at sentence #100000, processed 10862826 words, keeping 78 word types\n",
            "2021-05-06 05:43:53,198 : INFO : PROGRESS: at sentence #110000, processed 11947478 words, keeping 78 word types\n",
            "2021-05-06 05:43:53,366 : INFO : PROGRESS: at sentence #120000, processed 13028842 words, keeping 78 word types\n",
            "2021-05-06 05:43:53,536 : INFO : PROGRESS: at sentence #130000, processed 14110920 words, keeping 82 word types\n",
            "2021-05-06 05:43:53,711 : INFO : PROGRESS: at sentence #140000, processed 15197565 words, keeping 82 word types\n",
            "2021-05-06 05:43:53,874 : INFO : PROGRESS: at sentence #150000, processed 16281461 words, keeping 82 word types\n",
            "2021-05-06 05:43:54,040 : INFO : PROGRESS: at sentence #160000, processed 17374081 words, keeping 82 word types\n",
            "2021-05-06 05:43:54,196 : INFO : PROGRESS: at sentence #170000, processed 18458105 words, keeping 82 word types\n",
            "2021-05-06 05:43:54,355 : INFO : PROGRESS: at sentence #180000, processed 19553100 words, keeping 82 word types\n",
            "2021-05-06 05:43:54,519 : INFO : PROGRESS: at sentence #190000, processed 20641835 words, keeping 82 word types\n",
            "2021-05-06 05:43:54,680 : INFO : PROGRESS: at sentence #200000, processed 21729170 words, keeping 83 word types\n",
            "2021-05-06 05:43:54,853 : INFO : PROGRESS: at sentence #210000, processed 22811502 words, keeping 83 word types\n",
            "2021-05-06 05:43:55,010 : INFO : PROGRESS: at sentence #220000, processed 23899003 words, keeping 85 word types\n",
            "2021-05-06 05:43:55,167 : INFO : PROGRESS: at sentence #230000, processed 24987765 words, keeping 85 word types\n",
            "2021-05-06 05:43:55,327 : INFO : PROGRESS: at sentence #240000, processed 26070494 words, keeping 85 word types\n",
            "2021-05-06 05:43:55,484 : INFO : PROGRESS: at sentence #250000, processed 27157655 words, keeping 85 word types\n",
            "2021-05-06 05:43:55,648 : INFO : PROGRESS: at sentence #260000, processed 28240531 words, keeping 85 word types\n",
            "2021-05-06 05:43:55,820 : INFO : PROGRESS: at sentence #270000, processed 29330379 words, keeping 85 word types\n",
            "2021-05-06 05:43:55,986 : INFO : PROGRESS: at sentence #280000, processed 30414561 words, keeping 85 word types\n",
            "2021-05-06 05:43:56,141 : INFO : PROGRESS: at sentence #290000, processed 31496783 words, keeping 85 word types\n",
            "2021-05-06 05:43:56,303 : INFO : PROGRESS: at sentence #300000, processed 32581095 words, keeping 85 word types\n",
            "2021-05-06 05:43:56,467 : INFO : PROGRESS: at sentence #310000, processed 33667909 words, keeping 85 word types\n",
            "2021-05-06 05:43:56,641 : INFO : PROGRESS: at sentence #320000, processed 34753865 words, keeping 85 word types\n",
            "2021-05-06 05:43:56,802 : INFO : PROGRESS: at sentence #330000, processed 35841083 words, keeping 85 word types\n",
            "2021-05-06 05:43:56,961 : INFO : PROGRESS: at sentence #340000, processed 36932665 words, keeping 85 word types\n",
            "2021-05-06 05:43:57,118 : INFO : PROGRESS: at sentence #350000, processed 38015716 words, keeping 85 word types\n",
            "2021-05-06 05:43:57,280 : INFO : PROGRESS: at sentence #360000, processed 39103336 words, keeping 85 word types\n",
            "2021-05-06 05:43:57,440 : INFO : PROGRESS: at sentence #370000, processed 40191984 words, keeping 85 word types\n",
            "2021-05-06 05:43:57,596 : INFO : PROGRESS: at sentence #380000, processed 41275910 words, keeping 85 word types\n",
            "2021-05-06 05:43:57,749 : INFO : PROGRESS: at sentence #390000, processed 42361682 words, keeping 85 word types\n",
            "2021-05-06 05:43:57,909 : INFO : PROGRESS: at sentence #400000, processed 43446449 words, keeping 87 word types\n",
            "2021-05-06 05:43:58,066 : INFO : PROGRESS: at sentence #410000, processed 44533083 words, keeping 87 word types\n",
            "2021-05-06 05:43:58,236 : INFO : PROGRESS: at sentence #420000, processed 45620059 words, keeping 87 word types\n",
            "2021-05-06 05:43:58,391 : INFO : PROGRESS: at sentence #430000, processed 46702807 words, keeping 87 word types\n",
            "2021-05-06 05:43:58,544 : INFO : PROGRESS: at sentence #440000, processed 47796744 words, keeping 88 word types\n",
            "2021-05-06 05:43:58,705 : INFO : PROGRESS: at sentence #450000, processed 48886545 words, keeping 88 word types\n",
            "2021-05-06 05:43:58,859 : INFO : PROGRESS: at sentence #460000, processed 49978221 words, keeping 88 word types\n",
            "2021-05-06 05:43:59,025 : INFO : PROGRESS: at sentence #470000, processed 51060803 words, keeping 88 word types\n",
            "2021-05-06 05:43:59,181 : INFO : PROGRESS: at sentence #480000, processed 52150655 words, keeping 88 word types\n",
            "2021-05-06 05:43:59,337 : INFO : PROGRESS: at sentence #490000, processed 53239237 words, keeping 88 word types\n",
            "2021-05-06 05:43:59,496 : INFO : PROGRESS: at sentence #500000, processed 54330058 words, keeping 88 word types\n",
            "2021-05-06 05:43:59,667 : INFO : PROGRESS: at sentence #510000, processed 55418099 words, keeping 88 word types\n",
            "2021-05-06 05:43:59,821 : INFO : PROGRESS: at sentence #520000, processed 56507676 words, keeping 88 word types\n",
            "2021-05-06 05:43:59,982 : INFO : PROGRESS: at sentence #530000, processed 57601177 words, keeping 88 word types\n",
            "2021-05-06 05:44:00,137 : INFO : PROGRESS: at sentence #540000, processed 58693443 words, keeping 88 word types\n",
            "2021-05-06 05:44:00,293 : INFO : PROGRESS: at sentence #550000, processed 59780844 words, keeping 88 word types\n",
            "2021-05-06 05:44:00,449 : INFO : PROGRESS: at sentence #560000, processed 60869192 words, keeping 88 word types\n",
            "2021-05-06 05:44:00,610 : INFO : PROGRESS: at sentence #570000, processed 61959371 words, keeping 88 word types\n",
            "2021-05-06 05:44:00,691 : INFO : collected 88 word types from a corpus of 62512354 raw words and 575061 sentences\n",
            "2021-05-06 05:44:00,692 : INFO : Loading a fresh vocabulary\n",
            "2021-05-06 05:44:00,696 : INFO : effective_min_count=40 retains 67 unique words (76% of original 88, drops 21)\n",
            "2021-05-06 05:44:00,697 : INFO : effective_min_count=40 leaves 62512073 word corpus (99% of original 62512354, drops 281)\n",
            "2021-05-06 05:44:00,702 : INFO : deleting the raw counts dictionary of 88 items\n",
            "2021-05-06 05:44:00,703 : INFO : sample=0.001 downsamples 35 most-common words\n",
            "2021-05-06 05:44:00,705 : INFO : downsampling leaves estimated 13238329 word corpus (21.2% of prior 62512073)\n",
            "2021-05-06 05:44:00,707 : INFO : estimated required memory for 67 words and 300 dimensions: 194300 bytes\n",
            "2021-05-06 05:44:00,709 : INFO : resetting layer weights\n",
            "2021-05-06 05:44:00,732 : INFO : training model with 4 workers on 67 vocabulary and 300 features, using sg=0 hs=0 sample=0.001 negative=5 window=10\n",
            "2021-05-06 05:44:01,740 : INFO : EPOCH 1 - PROGRESS: at 3.34% examples, 440724 words/s, in_qsize 7, out_qsize 0\n",
            "2021-05-06 05:44:02,746 : INFO : EPOCH 1 - PROGRESS: at 6.74% examples, 444388 words/s, in_qsize 7, out_qsize 0\n",
            "2021-05-06 05:44:03,749 : INFO : EPOCH 1 - PROGRESS: at 10.25% examples, 449857 words/s, in_qsize 7, out_qsize 2\n",
            "2021-05-06 05:44:04,755 : INFO : EPOCH 1 - PROGRESS: at 13.75% examples, 452192 words/s, in_qsize 6, out_qsize 1\n",
            "2021-05-06 05:44:05,756 : INFO : EPOCH 1 - PROGRESS: at 17.11% examples, 450351 words/s, in_qsize 7, out_qsize 0\n",
            "2021-05-06 05:44:06,764 : INFO : EPOCH 1 - PROGRESS: at 20.55% examples, 450328 words/s, in_qsize 8, out_qsize 1\n",
            "2021-05-06 05:44:07,771 : INFO : EPOCH 1 - PROGRESS: at 23.99% examples, 450112 words/s, in_qsize 7, out_qsize 0\n",
            "2021-05-06 05:44:08,772 : INFO : EPOCH 1 - PROGRESS: at 27.22% examples, 447107 words/s, in_qsize 7, out_qsize 0\n",
            "2021-05-06 05:44:09,775 : INFO : EPOCH 1 - PROGRESS: at 30.44% examples, 444834 words/s, in_qsize 6, out_qsize 1\n",
            "2021-05-06 05:44:10,777 : INFO : EPOCH 1 - PROGRESS: at 33.63% examples, 442804 words/s, in_qsize 7, out_qsize 0\n",
            "2021-05-06 05:44:11,784 : INFO : EPOCH 1 - PROGRESS: at 36.90% examples, 441656 words/s, in_qsize 7, out_qsize 0\n",
            "2021-05-06 05:44:12,786 : INFO : EPOCH 1 - PROGRESS: at 40.00% examples, 438905 words/s, in_qsize 7, out_qsize 0\n",
            "2021-05-06 05:44:13,787 : INFO : EPOCH 1 - PROGRESS: at 43.32% examples, 438831 words/s, in_qsize 7, out_qsize 0\n",
            "2021-05-06 05:44:14,803 : INFO : EPOCH 1 - PROGRESS: at 46.35% examples, 435507 words/s, in_qsize 6, out_qsize 1\n",
            "2021-05-06 05:44:15,804 : INFO : EPOCH 1 - PROGRESS: at 49.54% examples, 434453 words/s, in_qsize 7, out_qsize 0\n",
            "2021-05-06 05:44:16,808 : INFO : EPOCH 1 - PROGRESS: at 52.63% examples, 432620 words/s, in_qsize 7, out_qsize 0\n",
            "2021-05-06 05:44:17,811 : INFO : EPOCH 1 - PROGRESS: at 55.80% examples, 431755 words/s, in_qsize 6, out_qsize 1\n",
            "2021-05-06 05:44:18,821 : INFO : EPOCH 1 - PROGRESS: at 59.05% examples, 431514 words/s, in_qsize 7, out_qsize 0\n",
            "2021-05-06 05:44:19,829 : INFO : EPOCH 1 - PROGRESS: at 62.16% examples, 430219 words/s, in_qsize 7, out_qsize 0\n",
            "2021-05-06 05:44:20,833 : INFO : EPOCH 1 - PROGRESS: at 65.36% examples, 429827 words/s, in_qsize 7, out_qsize 0\n",
            "2021-05-06 05:44:21,841 : INFO : EPOCH 1 - PROGRESS: at 68.56% examples, 429359 words/s, in_qsize 7, out_qsize 0\n",
            "2021-05-06 05:44:22,851 : INFO : EPOCH 1 - PROGRESS: at 71.70% examples, 428468 words/s, in_qsize 8, out_qsize 1\n",
            "2021-05-06 05:44:23,856 : INFO : EPOCH 1 - PROGRESS: at 74.72% examples, 427133 words/s, in_qsize 7, out_qsize 0\n",
            "2021-05-06 05:44:24,865 : INFO : EPOCH 1 - PROGRESS: at 77.76% examples, 426014 words/s, in_qsize 7, out_qsize 0\n",
            "2021-05-06 05:44:25,866 : INFO : EPOCH 1 - PROGRESS: at 80.88% examples, 425510 words/s, in_qsize 7, out_qsize 0\n",
            "2021-05-06 05:44:26,871 : INFO : EPOCH 1 - PROGRESS: at 84.16% examples, 425845 words/s, in_qsize 7, out_qsize 0\n",
            "2021-05-06 05:44:27,873 : INFO : EPOCH 1 - PROGRESS: at 87.40% examples, 425978 words/s, in_qsize 7, out_qsize 0\n",
            "2021-05-06 05:44:28,874 : INFO : EPOCH 1 - PROGRESS: at 90.61% examples, 425998 words/s, in_qsize 7, out_qsize 0\n",
            "2021-05-06 05:44:29,878 : INFO : EPOCH 1 - PROGRESS: at 93.85% examples, 426213 words/s, in_qsize 7, out_qsize 0\n",
            "2021-05-06 05:44:30,880 : INFO : EPOCH 1 - PROGRESS: at 97.08% examples, 426225 words/s, in_qsize 7, out_qsize 0\n",
            "2021-05-06 05:44:31,782 : INFO : worker thread finished; awaiting finish of 3 more threads\n",
            "2021-05-06 05:44:31,786 : INFO : worker thread finished; awaiting finish of 2 more threads\n",
            "2021-05-06 05:44:31,799 : INFO : worker thread finished; awaiting finish of 1 more threads\n",
            "2021-05-06 05:44:31,801 : INFO : worker thread finished; awaiting finish of 0 more threads\n",
            "2021-05-06 05:44:31,802 : INFO : EPOCH - 1 : training on 62512354 raw words (13236192 effective words) took 31.1s, 426074 effective words/s\n",
            "2021-05-06 05:44:32,811 : INFO : EPOCH 2 - PROGRESS: at 3.07% examples, 406705 words/s, in_qsize 6, out_qsize 1\n",
            "2021-05-06 05:44:33,813 : INFO : EPOCH 2 - PROGRESS: at 6.14% examples, 406220 words/s, in_qsize 7, out_qsize 0\n",
            "2021-05-06 05:44:34,816 : INFO : EPOCH 2 - PROGRESS: at 9.32% examples, 409585 words/s, in_qsize 7, out_qsize 0\n",
            "2021-05-06 05:44:35,822 : INFO : EPOCH 2 - PROGRESS: at 12.51% examples, 411902 words/s, in_qsize 7, out_qsize 0\n",
            "2021-05-06 05:44:36,831 : INFO : EPOCH 2 - PROGRESS: at 15.75% examples, 414175 words/s, in_qsize 7, out_qsize 0\n",
            "2021-05-06 05:44:37,835 : INFO : EPOCH 2 - PROGRESS: at 18.86% examples, 413564 words/s, in_qsize 7, out_qsize 0\n",
            "2021-05-06 05:44:38,839 : INFO : EPOCH 2 - PROGRESS: at 21.98% examples, 412670 words/s, in_qsize 7, out_qsize 0\n",
            "2021-05-06 05:44:39,847 : INFO : EPOCH 2 - PROGRESS: at 24.96% examples, 409869 words/s, in_qsize 7, out_qsize 0\n",
            "2021-05-06 05:44:40,851 : INFO : EPOCH 2 - PROGRESS: at 28.11% examples, 410617 words/s, in_qsize 8, out_qsize 0\n",
            "2021-05-06 05:44:41,857 : INFO : EPOCH 2 - PROGRESS: at 31.26% examples, 410967 words/s, in_qsize 7, out_qsize 0\n",
            "2021-05-06 05:44:42,860 : INFO : EPOCH 2 - PROGRESS: at 34.40% examples, 411469 words/s, in_qsize 7, out_qsize 0\n",
            "2021-05-06 05:44:43,861 : INFO : EPOCH 2 - PROGRESS: at 37.57% examples, 412111 words/s, in_qsize 7, out_qsize 0\n",
            "2021-05-06 05:44:44,865 : INFO : EPOCH 2 - PROGRESS: at 40.72% examples, 412367 words/s, in_qsize 7, out_qsize 0\n",
            "2021-05-06 05:44:45,871 : INFO : EPOCH 2 - PROGRESS: at 43.93% examples, 412970 words/s, in_qsize 6, out_qsize 1\n",
            "2021-05-06 05:44:46,873 : INFO : EPOCH 2 - PROGRESS: at 47.03% examples, 412730 words/s, in_qsize 7, out_qsize 0\n",
            "2021-05-06 05:44:47,873 : INFO : EPOCH 2 - PROGRESS: at 50.24% examples, 413359 words/s, in_qsize 7, out_qsize 0\n",
            "2021-05-06 05:44:48,878 : INFO : EPOCH 2 - PROGRESS: at 53.36% examples, 413191 words/s, in_qsize 7, out_qsize 0\n",
            "2021-05-06 05:44:49,881 : INFO : EPOCH 2 - PROGRESS: at 56.55% examples, 413566 words/s, in_qsize 7, out_qsize 0\n",
            "2021-05-06 05:44:50,882 : INFO : EPOCH 2 - PROGRESS: at 59.82% examples, 414592 words/s, in_qsize 7, out_qsize 0\n",
            "2021-05-06 05:44:51,887 : INFO : EPOCH 2 - PROGRESS: at 62.95% examples, 414563 words/s, in_qsize 7, out_qsize 0\n",
            "2021-05-06 05:44:52,889 : INFO : EPOCH 2 - PROGRESS: at 66.18% examples, 415148 words/s, in_qsize 7, out_qsize 0\n",
            "2021-05-06 05:44:53,898 : INFO : EPOCH 2 - PROGRESS: at 69.42% examples, 415538 words/s, in_qsize 7, out_qsize 0\n",
            "2021-05-06 05:44:54,907 : INFO : EPOCH 2 - PROGRESS: at 72.65% examples, 415915 words/s, in_qsize 7, out_qsize 0\n",
            "2021-05-06 05:44:55,911 : INFO : EPOCH 2 - PROGRESS: at 75.84% examples, 416183 words/s, in_qsize 7, out_qsize 0\n",
            "2021-05-06 05:44:56,919 : INFO : EPOCH 2 - PROGRESS: at 79.05% examples, 416410 words/s, in_qsize 7, out_qsize 0\n",
            "2021-05-06 05:44:57,925 : INFO : EPOCH 2 - PROGRESS: at 82.26% examples, 416724 words/s, in_qsize 7, out_qsize 0\n",
            "2021-05-06 05:44:58,927 : INFO : EPOCH 2 - PROGRESS: at 85.48% examples, 417120 words/s, in_qsize 7, out_qsize 0\n",
            "2021-05-06 05:44:59,929 : INFO : EPOCH 2 - PROGRESS: at 88.58% examples, 416874 words/s, in_qsize 7, out_qsize 0\n",
            "2021-05-06 05:45:00,937 : INFO : EPOCH 2 - PROGRESS: at 91.78% examples, 417124 words/s, in_qsize 6, out_qsize 1\n",
            "2021-05-06 05:45:01,938 : INFO : EPOCH 2 - PROGRESS: at 94.95% examples, 417293 words/s, in_qsize 7, out_qsize 0\n",
            "2021-05-06 05:45:02,954 : INFO : EPOCH 2 - PROGRESS: at 98.16% examples, 417364 words/s, in_qsize 8, out_qsize 1\n",
            "2021-05-06 05:45:03,496 : INFO : worker thread finished; awaiting finish of 3 more threads\n",
            "2021-05-06 05:45:03,499 : INFO : worker thread finished; awaiting finish of 2 more threads\n",
            "2021-05-06 05:45:03,502 : INFO : worker thread finished; awaiting finish of 1 more threads\n",
            "2021-05-06 05:45:03,505 : INFO : worker thread finished; awaiting finish of 0 more threads\n",
            "2021-05-06 05:45:03,507 : INFO : EPOCH - 2 : training on 62512354 raw words (13243770 effective words) took 31.7s, 417832 effective words/s\n",
            "2021-05-06 05:45:04,525 : INFO : EPOCH 3 - PROGRESS: at 3.24% examples, 425889 words/s, in_qsize 6, out_qsize 1\n",
            "2021-05-06 05:45:05,526 : INFO : EPOCH 3 - PROGRESS: at 6.60% examples, 434395 words/s, in_qsize 7, out_qsize 0\n",
            "2021-05-06 05:45:06,529 : INFO : EPOCH 3 - PROGRESS: at 9.93% examples, 435444 words/s, in_qsize 7, out_qsize 0\n",
            "2021-05-06 05:45:07,547 : INFO : EPOCH 3 - PROGRESS: at 13.24% examples, 434005 words/s, in_qsize 7, out_qsize 0\n",
            "2021-05-06 05:45:08,551 : INFO : EPOCH 3 - PROGRESS: at 16.59% examples, 435328 words/s, in_qsize 7, out_qsize 0\n",
            "2021-05-06 05:45:09,554 : INFO : EPOCH 3 - PROGRESS: at 19.92% examples, 435899 words/s, in_qsize 7, out_qsize 0\n",
            "2021-05-06 05:45:10,557 : INFO : EPOCH 3 - PROGRESS: at 23.17% examples, 434642 words/s, in_qsize 7, out_qsize 0\n",
            "2021-05-06 05:45:11,559 : INFO : EPOCH 3 - PROGRESS: at 26.51% examples, 435371 words/s, in_qsize 7, out_qsize 0\n",
            "2021-05-06 05:45:12,562 : INFO : EPOCH 3 - PROGRESS: at 29.84% examples, 435667 words/s, in_qsize 7, out_qsize 0\n",
            "2021-05-06 05:45:13,567 : INFO : EPOCH 3 - PROGRESS: at 33.15% examples, 436035 words/s, in_qsize 7, out_qsize 0\n",
            "2021-05-06 05:45:14,568 : INFO : EPOCH 3 - PROGRESS: at 36.32% examples, 434398 words/s, in_qsize 7, out_qsize 0\n",
            "2021-05-06 05:45:15,579 : INFO : EPOCH 3 - PROGRESS: at 39.75% examples, 435721 words/s, in_qsize 7, out_qsize 0\n",
            "2021-05-06 05:45:16,579 : INFO : EPOCH 3 - PROGRESS: at 43.15% examples, 436701 words/s, in_qsize 7, out_qsize 0\n",
            "2021-05-06 05:45:17,590 : INFO : EPOCH 3 - PROGRESS: at 46.55% examples, 437307 words/s, in_qsize 7, out_qsize 0\n",
            "2021-05-06 05:45:18,591 : INFO : EPOCH 3 - PROGRESS: at 49.87% examples, 437382 words/s, in_qsize 7, out_qsize 0\n",
            "2021-05-06 05:45:19,594 : INFO : EPOCH 3 - PROGRESS: at 53.22% examples, 437553 words/s, in_qsize 7, out_qsize 0\n",
            "2021-05-06 05:45:20,596 : INFO : EPOCH 3 - PROGRESS: at 56.55% examples, 437575 words/s, in_qsize 7, out_qsize 0\n",
            "2021-05-06 05:45:21,596 : INFO : EPOCH 3 - PROGRESS: at 59.84% examples, 437412 words/s, in_qsize 7, out_qsize 0\n",
            "2021-05-06 05:45:22,604 : INFO : EPOCH 3 - PROGRESS: at 63.17% examples, 437496 words/s, in_qsize 7, out_qsize 0\n",
            "2021-05-06 05:45:23,608 : INFO : EPOCH 3 - PROGRESS: at 66.45% examples, 437213 words/s, in_qsize 7, out_qsize 0\n",
            "2021-05-06 05:45:24,616 : INFO : EPOCH 3 - PROGRESS: at 69.79% examples, 437233 words/s, in_qsize 7, out_qsize 0\n",
            "2021-05-06 05:45:25,622 : INFO : EPOCH 3 - PROGRESS: at 73.03% examples, 436840 words/s, in_qsize 7, out_qsize 0\n",
            "2021-05-06 05:45:26,626 : INFO : EPOCH 3 - PROGRESS: at 76.34% examples, 436795 words/s, in_qsize 6, out_qsize 1\n",
            "2021-05-06 05:45:27,639 : INFO : EPOCH 3 - PROGRESS: at 79.65% examples, 436735 words/s, in_qsize 7, out_qsize 0\n",
            "2021-05-06 05:45:28,645 : INFO : EPOCH 3 - PROGRESS: at 82.95% examples, 436615 words/s, in_qsize 7, out_qsize 0\n",
            "2021-05-06 05:45:29,648 : INFO : EPOCH 3 - PROGRESS: at 86.23% examples, 436604 words/s, in_qsize 7, out_qsize 0\n",
            "2021-05-06 05:45:30,659 : INFO : EPOCH 3 - PROGRESS: at 89.50% examples, 436339 words/s, in_qsize 7, out_qsize 0\n",
            "2021-05-06 05:45:31,662 : INFO : EPOCH 3 - PROGRESS: at 92.78% examples, 436365 words/s, in_qsize 7, out_qsize 0\n",
            "2021-05-06 05:45:32,673 : INFO : EPOCH 3 - PROGRESS: at 96.10% examples, 436355 words/s, in_qsize 7, out_qsize 0\n",
            "2021-05-06 05:45:33,681 : INFO : EPOCH 3 - PROGRESS: at 99.36% examples, 436198 words/s, in_qsize 7, out_qsize 0\n",
            "2021-05-06 05:45:33,858 : INFO : worker thread finished; awaiting finish of 3 more threads\n",
            "2021-05-06 05:45:33,861 : INFO : worker thread finished; awaiting finish of 2 more threads\n",
            "2021-05-06 05:45:33,864 : INFO : worker thread finished; awaiting finish of 1 more threads\n",
            "2021-05-06 05:45:33,870 : INFO : worker thread finished; awaiting finish of 0 more threads\n",
            "2021-05-06 05:45:33,871 : INFO : EPOCH - 3 : training on 62512354 raw words (13242916 effective words) took 30.4s, 436271 effective words/s\n",
            "2021-05-06 05:45:34,879 : INFO : EPOCH 4 - PROGRESS: at 3.26% examples, 431766 words/s, in_qsize 8, out_qsize 1\n",
            "2021-05-06 05:45:35,885 : INFO : EPOCH 4 - PROGRESS: at 6.66% examples, 439524 words/s, in_qsize 7, out_qsize 0\n",
            "2021-05-06 05:45:36,890 : INFO : EPOCH 4 - PROGRESS: at 10.01% examples, 439284 words/s, in_qsize 7, out_qsize 0\n",
            "2021-05-06 05:45:37,891 : INFO : EPOCH 4 - PROGRESS: at 13.32% examples, 438483 words/s, in_qsize 6, out_qsize 1\n",
            "2021-05-06 05:45:38,897 : INFO : EPOCH 4 - PROGRESS: at 16.65% examples, 438253 words/s, in_qsize 7, out_qsize 0\n",
            "2021-05-06 05:45:39,900 : INFO : EPOCH 4 - PROGRESS: at 19.98% examples, 438058 words/s, in_qsize 7, out_qsize 0\n",
            "2021-05-06 05:45:40,912 : INFO : EPOCH 4 - PROGRESS: at 23.33% examples, 437830 words/s, in_qsize 7, out_qsize 0\n",
            "2021-05-06 05:45:41,914 : INFO : EPOCH 4 - PROGRESS: at 26.70% examples, 438662 words/s, in_qsize 6, out_qsize 1\n",
            "2021-05-06 05:45:42,914 : INFO : EPOCH 4 - PROGRESS: at 30.06% examples, 439204 words/s, in_qsize 7, out_qsize 0\n",
            "2021-05-06 05:45:43,922 : INFO : EPOCH 4 - PROGRESS: at 33.36% examples, 438846 words/s, in_qsize 8, out_qsize 0\n",
            "2021-05-06 05:45:44,931 : INFO : EPOCH 4 - PROGRESS: at 36.67% examples, 438331 words/s, in_qsize 6, out_qsize 1\n",
            "2021-05-06 05:45:45,947 : INFO : EPOCH 4 - PROGRESS: at 39.97% examples, 437588 words/s, in_qsize 7, out_qsize 0\n",
            "2021-05-06 05:45:46,948 : INFO : EPOCH 4 - PROGRESS: at 43.24% examples, 437068 words/s, in_qsize 7, out_qsize 0\n",
            "2021-05-06 05:45:47,952 : INFO : EPOCH 4 - PROGRESS: at 46.54% examples, 436856 words/s, in_qsize 7, out_qsize 0\n",
            "2021-05-06 05:45:48,953 : INFO : EPOCH 4 - PROGRESS: at 49.87% examples, 436993 words/s, in_qsize 7, out_qsize 0\n",
            "2021-05-06 05:45:49,961 : INFO : EPOCH 4 - PROGRESS: at 53.22% examples, 437049 words/s, in_qsize 6, out_qsize 1\n",
            "2021-05-06 05:45:50,967 : INFO : EPOCH 4 - PROGRESS: at 56.45% examples, 436363 words/s, in_qsize 7, out_qsize 0\n",
            "2021-05-06 05:45:51,982 : INFO : EPOCH 4 - PROGRESS: at 59.90% examples, 437088 words/s, in_qsize 7, out_qsize 0\n",
            "2021-05-06 05:45:52,985 : INFO : EPOCH 4 - PROGRESS: at 63.14% examples, 436617 words/s, in_qsize 7, out_qsize 0\n",
            "2021-05-06 05:45:53,993 : INFO : EPOCH 4 - PROGRESS: at 66.50% examples, 436846 words/s, in_qsize 8, out_qsize 0\n",
            "2021-05-06 05:45:55,003 : INFO : EPOCH 4 - PROGRESS: at 69.77% examples, 436358 words/s, in_qsize 8, out_qsize 0\n",
            "2021-05-06 05:45:56,014 : INFO : EPOCH 4 - PROGRESS: at 73.14% examples, 436610 words/s, in_qsize 7, out_qsize 0\n",
            "2021-05-06 05:45:57,020 : INFO : EPOCH 4 - PROGRESS: at 76.43% examples, 436455 words/s, in_qsize 7, out_qsize 0\n",
            "2021-05-06 05:45:58,021 : INFO : EPOCH 4 - PROGRESS: at 79.68% examples, 436241 words/s, in_qsize 7, out_qsize 0\n",
            "2021-05-06 05:45:59,021 : INFO : EPOCH 4 - PROGRESS: at 83.07% examples, 436705 words/s, in_qsize 7, out_qsize 0\n",
            "2021-05-06 05:46:00,021 : INFO : EPOCH 4 - PROGRESS: at 86.31% examples, 436481 words/s, in_qsize 7, out_qsize 0\n",
            "2021-05-06 05:46:01,023 : INFO : EPOCH 4 - PROGRESS: at 89.55% examples, 436256 words/s, in_qsize 7, out_qsize 0\n",
            "2021-05-06 05:46:02,024 : INFO : EPOCH 4 - PROGRESS: at 92.76% examples, 435995 words/s, in_qsize 7, out_qsize 0\n",
            "2021-05-06 05:46:03,031 : INFO : EPOCH 4 - PROGRESS: at 96.13% examples, 436277 words/s, in_qsize 7, out_qsize 0\n",
            "2021-05-06 05:46:04,036 : INFO : EPOCH 4 - PROGRESS: at 99.44% examples, 436379 words/s, in_qsize 7, out_qsize 0\n",
            "2021-05-06 05:46:04,201 : INFO : worker thread finished; awaiting finish of 3 more threads\n",
            "2021-05-06 05:46:04,205 : INFO : worker thread finished; awaiting finish of 2 more threads\n",
            "2021-05-06 05:46:04,213 : INFO : worker thread finished; awaiting finish of 1 more threads\n",
            "2021-05-06 05:46:04,216 : INFO : worker thread finished; awaiting finish of 0 more threads\n",
            "2021-05-06 05:46:04,218 : INFO : EPOCH - 4 : training on 62512354 raw words (13235539 effective words) took 30.3s, 436234 effective words/s\n",
            "2021-05-06 05:46:05,227 : INFO : EPOCH 5 - PROGRESS: at 3.32% examples, 439137 words/s, in_qsize 7, out_qsize 0\n",
            "2021-05-06 05:46:06,230 : INFO : EPOCH 5 - PROGRESS: at 6.63% examples, 437686 words/s, in_qsize 7, out_qsize 0\n",
            "2021-05-06 05:46:07,236 : INFO : EPOCH 5 - PROGRESS: at 10.03% examples, 439640 words/s, in_qsize 7, out_qsize 0\n",
            "2021-05-06 05:46:08,237 : INFO : EPOCH 5 - PROGRESS: at 13.45% examples, 442702 words/s, in_qsize 7, out_qsize 0\n",
            "2021-05-06 05:46:09,239 : INFO : EPOCH 5 - PROGRESS: at 16.83% examples, 443130 words/s, in_qsize 6, out_qsize 0\n",
            "2021-05-06 05:46:10,244 : INFO : EPOCH 5 - PROGRESS: at 20.12% examples, 441602 words/s, in_qsize 7, out_qsize 0\n",
            "2021-05-06 05:46:11,245 : INFO : EPOCH 5 - PROGRESS: at 23.46% examples, 441184 words/s, in_qsize 7, out_qsize 0\n",
            "2021-05-06 05:46:12,261 : INFO : EPOCH 5 - PROGRESS: at 26.88% examples, 441761 words/s, in_qsize 7, out_qsize 0\n",
            "2021-05-06 05:46:13,263 : INFO : EPOCH 5 - PROGRESS: at 30.22% examples, 441607 words/s, in_qsize 7, out_qsize 0\n",
            "2021-05-06 05:46:14,269 : INFO : EPOCH 5 - PROGRESS: at 33.56% examples, 441568 words/s, in_qsize 7, out_qsize 0\n",
            "2021-05-06 05:46:15,287 : INFO : EPOCH 5 - PROGRESS: at 36.83% examples, 440044 words/s, in_qsize 7, out_qsize 2\n",
            "2021-05-06 05:46:16,290 : INFO : EPOCH 5 - PROGRESS: at 40.28% examples, 441186 words/s, in_qsize 7, out_qsize 0\n",
            "2021-05-06 05:46:17,292 : INFO : EPOCH 5 - PROGRESS: at 43.73% examples, 442340 words/s, in_qsize 7, out_qsize 0\n",
            "2021-05-06 05:46:18,296 : INFO : EPOCH 5 - PROGRESS: at 47.03% examples, 441740 words/s, in_qsize 7, out_qsize 0\n",
            "2021-05-06 05:46:19,308 : INFO : EPOCH 5 - PROGRESS: at 50.43% examples, 441707 words/s, in_qsize 7, out_qsize 0\n",
            "2021-05-06 05:46:20,312 : INFO : EPOCH 5 - PROGRESS: at 53.78% examples, 441575 words/s, in_qsize 7, out_qsize 0\n",
            "2021-05-06 05:46:21,316 : INFO : EPOCH 5 - PROGRESS: at 57.01% examples, 440626 words/s, in_qsize 7, out_qsize 0\n",
            "2021-05-06 05:46:22,328 : INFO : EPOCH 5 - PROGRESS: at 60.28% examples, 439912 words/s, in_qsize 5, out_qsize 2\n",
            "2021-05-06 05:46:23,334 : INFO : EPOCH 5 - PROGRESS: at 63.59% examples, 439645 words/s, in_qsize 6, out_qsize 1\n",
            "2021-05-06 05:46:24,343 : INFO : EPOCH 5 - PROGRESS: at 66.82% examples, 438851 words/s, in_qsize 7, out_qsize 0\n",
            "2021-05-06 05:46:25,343 : INFO : EPOCH 5 - PROGRESS: at 70.17% examples, 438973 words/s, in_qsize 7, out_qsize 0\n",
            "2021-05-06 05:46:26,344 : INFO : EPOCH 5 - PROGRESS: at 73.51% examples, 439134 words/s, in_qsize 7, out_qsize 0\n",
            "2021-05-06 05:46:27,348 : INFO : EPOCH 5 - PROGRESS: at 76.81% examples, 438990 words/s, in_qsize 7, out_qsize 0\n",
            "2021-05-06 05:46:28,354 : INFO : EPOCH 5 - PROGRESS: at 80.16% examples, 439115 words/s, in_qsize 7, out_qsize 0\n",
            "2021-05-06 05:46:29,360 : INFO : EPOCH 5 - PROGRESS: at 83.55% examples, 439448 words/s, in_qsize 7, out_qsize 0\n",
            "2021-05-06 05:46:30,367 : INFO : EPOCH 5 - PROGRESS: at 86.94% examples, 439796 words/s, in_qsize 8, out_qsize 0\n",
            "2021-05-06 05:46:31,367 : INFO : EPOCH 5 - PROGRESS: at 90.23% examples, 439709 words/s, in_qsize 7, out_qsize 0\n",
            "2021-05-06 05:46:32,368 : INFO : EPOCH 5 - PROGRESS: at 93.46% examples, 439434 words/s, in_qsize 8, out_qsize 3\n",
            "2021-05-06 05:46:33,371 : INFO : EPOCH 5 - PROGRESS: at 96.81% examples, 439576 words/s, in_qsize 7, out_qsize 0\n",
            "2021-05-06 05:46:34,339 : INFO : worker thread finished; awaiting finish of 3 more threads\n",
            "2021-05-06 05:46:34,346 : INFO : worker thread finished; awaiting finish of 2 more threads\n",
            "2021-05-06 05:46:34,348 : INFO : worker thread finished; awaiting finish of 1 more threads\n",
            "2021-05-06 05:46:34,353 : INFO : worker thread finished; awaiting finish of 0 more threads\n",
            "2021-05-06 05:46:34,354 : INFO : EPOCH - 5 : training on 62512354 raw words (13237415 effective words) took 30.1s, 439370 effective words/s\n",
            "2021-05-06 05:46:34,355 : INFO : training on a 312561770 raw words (66195832 effective words) took 153.6s, 430899 effective words/s\n",
            "2021-05-06 05:46:34,360 : INFO : precomputing L2-norms of word weight vectors\n",
            "2021-05-06 05:46:34,365 : INFO : saving Word2Vec object under word2vec_origin, separately None\n",
            "2021-05-06 05:46:34,367 : INFO : not storing attribute vectors_norm\n",
            "2021-05-06 05:46:34,369 : INFO : not storing attribute cum_table\n",
            "2021-05-06 05:46:34,381 : INFO : saved word2vec_origin\n"
          ],
          "name": "stderr"
        }
      ]
    },
    {
      "cell_type": "code",
      "metadata": {
        "colab": {
          "base_uri": "https://localhost:8080/"
        },
        "id": "566a4oXFGJw3",
        "outputId": "f5e0bef8-fba2-4766-844f-d29d87ca3327"
      },
      "source": [
        "from gensim.models import Word2Vec\n",
        "model = Word2Vec.load(\"word2vec_origin\")\n",
        "model.wv.syn0.shape"
      ],
      "execution_count": 16,
      "outputs": [
        {
          "output_type": "stream",
          "text": [
            "2021-05-06 05:47:24,441 : INFO : loading Word2Vec object from word2vec_origin\n",
            "2021-05-06 05:47:24,447 : INFO : loading wv recursively from word2vec_origin.wv.* with mmap=None\n",
            "2021-05-06 05:47:24,449 : INFO : setting ignored attribute vectors_norm to None\n",
            "2021-05-06 05:47:24,450 : INFO : loading vocabulary recursively from word2vec_origin.vocabulary.* with mmap=None\n",
            "2021-05-06 05:47:24,451 : INFO : loading trainables recursively from word2vec_origin.trainables.* with mmap=None\n",
            "2021-05-06 05:47:24,453 : INFO : setting ignored attribute cum_table to None\n",
            "2021-05-06 05:47:24,455 : INFO : loaded word2vec_origin\n",
            "/usr/local/lib/python3.7/dist-packages/ipykernel_launcher.py:3: DeprecationWarning: Call to deprecated `syn0` (Attribute will be removed in 4.0.0, use self.wv.vectors instead).\n",
            "  This is separate from the ipykernel package so we can avoid doing imports until\n"
          ],
          "name": "stderr"
        },
        {
          "output_type": "execute_result",
          "data": {
            "text/plain": [
              "(67, 300)"
            ]
          },
          "metadata": {
            "tags": []
          },
          "execution_count": 16
        }
      ]
    },
    {
      "cell_type": "code",
      "metadata": {
        "id": "grB82qaKGbxh"
      },
      "source": [
        "def makeFeatureVec(words, model, num_features):\n",
        "    # Function to average all of the word vectors in a given block id\n",
        "\n",
        "    featureVec = np.zeros((num_features,), dtype=\"float32\")\n",
        "    nwords = 0\n",
        "\n",
        "    index2word_set = set(model.wv.index2word)\n",
        "\n",
        "    for word in words:\n",
        "        if word in index2word_set: \n",
        "            nwords = nwords + 1.\n",
        "            featureVec = np.add(featureVec,model[word])\n",
        "\n",
        "    # Divide the result by the number of words to get the average\n",
        "    featureVec = np.divide(featureVec,nwords)\n",
        "    return featureVec\n",
        "\n",
        "\n",
        "def getAvgFeatureVecs(ids, model, num_features):\n",
        "    # Given a set of ids calculate the average feature vector for each one\n",
        "\n",
        "    counter = 0\n",
        "    idFeatureVecs = np.zeros((len(ids), num_features), dtype=\"float32\")\n",
        "\n",
        "    for element in ids:\n",
        "\n",
        "       if counter%10000 == 0:\n",
        "           print(\"Block id %d of %d\" % (counter, len(ids)))\n",
        "\n",
        "       # Call the function that makes average feature vectors\n",
        "       idFeatureVecs[counter] = makeFeatureVec(element, model, num_features)\n",
        "\n",
        "       counter = counter + 1\n",
        "    return idFeatureVecs"
      ],
      "execution_count": 17,
      "outputs": []
    },
    {
      "cell_type": "markdown",
      "metadata": {
        "id": "CBPcM7D-JFgS"
      },
      "source": [
        "# **Parse HDFS.2K Sample Set**"
      ]
    },
    {
      "cell_type": "code",
      "metadata": {
        "id": "TU1xD5AJhykM"
      },
      "source": [
        "with open('/content/data586_Project/MyDrive/DATA586_Project/HDFS_2k.log') as f:\n",
        "    data = f.readlines()"
      ],
      "execution_count": 18,
      "outputs": []
    },
    {
      "cell_type": "code",
      "metadata": {
        "id": "T0f3EGI3i_Dg"
      },
      "source": [
        "test_log = [t.strip() for t in data]\n",
        "Date = []\n",
        "Time = []\n",
        "Pid = []\n",
        "Level = []\n",
        "Component = []\n",
        "Content = []"
      ],
      "execution_count": null,
      "outputs": []
    },
    {
      "cell_type": "code",
      "metadata": {
        "id": "SSFMV5THjIEZ"
      },
      "source": [
        "for line in test_log:\n",
        "  s1=line.split(' ')[0].strip()\n",
        "  Date.append(s1)\n",
        "  s2=line.split(' ')[1].strip()\n",
        "  Time.append(s2)\n",
        "  s3=line.split(' ')[2].strip()\n",
        "  Pid.append(s3)\n",
        "  s4=line.split(' ')[3].strip()\n",
        "  Level.append(s4)\n",
        "  s5=line.split(' ')[4].strip(': ')\n",
        "  Component.append(s5)\n",
        "  s6=line.split(' ')[5:]\n",
        "  Content.append(' '.join(s6))"
      ],
      "execution_count": null,
      "outputs": []
    },
    {
      "cell_type": "code",
      "metadata": {
        "id": "OKvVzlOajMjo"
      },
      "source": [
        "test = pd.DataFrame([Date, Time, Pid, Level, Component, Content])\n",
        "test = test.T\n",
        "test.columns=['Date','Time', 'Pid', 'Level', 'Component', 'Content']"
      ],
      "execution_count": null,
      "outputs": []
    },
    {
      "cell_type": "code",
      "metadata": {
        "id": "xDDPZjStjb1p"
      },
      "source": [
        "test['BlockId'] = test.Content.str.extract(r'(?:blk_-)(\\d+)')\n",
        "test['BlockId2'] = test.Content.str.extract(r'(?:blk_)(\\d+)')"
      ],
      "execution_count": null,
      "outputs": []
    },
    {
      "cell_type": "code",
      "metadata": {
        "colab": {
          "base_uri": "https://localhost:8080/",
          "height": 204
        },
        "id": "g-wKy4V2jolK",
        "outputId": "70a5a3cb-a25b-4bc6-f7e3-e5275fb88724"
      },
      "source": [
        "test['BlockId'] = test['BlockId'].fillna(test['BlockId2'])\n",
        "test.drop('BlockId2', axis=1, inplace=True)\n",
        "test.head()"
      ],
      "execution_count": null,
      "outputs": [
        {
          "output_type": "execute_result",
          "data": {
            "text/html": [
              "<div>\n",
              "<style scoped>\n",
              "    .dataframe tbody tr th:only-of-type {\n",
              "        vertical-align: middle;\n",
              "    }\n",
              "\n",
              "    .dataframe tbody tr th {\n",
              "        vertical-align: top;\n",
              "    }\n",
              "\n",
              "    .dataframe thead th {\n",
              "        text-align: right;\n",
              "    }\n",
              "</style>\n",
              "<table border=\"1\" class=\"dataframe\">\n",
              "  <thead>\n",
              "    <tr style=\"text-align: right;\">\n",
              "      <th></th>\n",
              "      <th>Date</th>\n",
              "      <th>Time</th>\n",
              "      <th>Pid</th>\n",
              "      <th>Level</th>\n",
              "      <th>Component</th>\n",
              "      <th>Content</th>\n",
              "      <th>BlockId</th>\n",
              "    </tr>\n",
              "  </thead>\n",
              "  <tbody>\n",
              "    <tr>\n",
              "      <th>0</th>\n",
              "      <td>081109</td>\n",
              "      <td>203615</td>\n",
              "      <td>148</td>\n",
              "      <td>INFO</td>\n",
              "      <td>dfs.DataNode$PacketResponder</td>\n",
              "      <td>PacketResponder 1 for block blk_38865049064139...</td>\n",
              "      <td>38865049064139660</td>\n",
              "    </tr>\n",
              "    <tr>\n",
              "      <th>1</th>\n",
              "      <td>081109</td>\n",
              "      <td>203807</td>\n",
              "      <td>222</td>\n",
              "      <td>INFO</td>\n",
              "      <td>dfs.DataNode$PacketResponder</td>\n",
              "      <td>PacketResponder 0 for block blk_-6952295868487...</td>\n",
              "      <td>6952295868487656571</td>\n",
              "    </tr>\n",
              "    <tr>\n",
              "      <th>2</th>\n",
              "      <td>081109</td>\n",
              "      <td>204005</td>\n",
              "      <td>35</td>\n",
              "      <td>INFO</td>\n",
              "      <td>dfs.FSNamesystem</td>\n",
              "      <td>BLOCK* NameSystem.addStoredBlock: blockMap upd...</td>\n",
              "      <td>7128370237687728475</td>\n",
              "    </tr>\n",
              "    <tr>\n",
              "      <th>3</th>\n",
              "      <td>081109</td>\n",
              "      <td>204015</td>\n",
              "      <td>308</td>\n",
              "      <td>INFO</td>\n",
              "      <td>dfs.DataNode$PacketResponder</td>\n",
              "      <td>PacketResponder 2 for block blk_82291938032499...</td>\n",
              "      <td>8229193803249955061</td>\n",
              "    </tr>\n",
              "    <tr>\n",
              "      <th>4</th>\n",
              "      <td>081109</td>\n",
              "      <td>204106</td>\n",
              "      <td>329</td>\n",
              "      <td>INFO</td>\n",
              "      <td>dfs.DataNode$PacketResponder</td>\n",
              "      <td>PacketResponder 2 for block blk_-6670958622368...</td>\n",
              "      <td>6670958622368987959</td>\n",
              "    </tr>\n",
              "  </tbody>\n",
              "</table>\n",
              "</div>"
            ],
            "text/plain": [
              "     Date  ...              BlockId\n",
              "0  081109  ...    38865049064139660\n",
              "1  081109  ...  6952295868487656571\n",
              "2  081109  ...  7128370237687728475\n",
              "3  081109  ...  8229193803249955061\n",
              "4  081109  ...  6670958622368987959\n",
              "\n",
              "[5 rows x 7 columns]"
            ]
          },
          "metadata": {
            "tags": []
          },
          "execution_count": 32
        }
      ]
    },
    {
      "cell_type": "code",
      "metadata": {
        "id": "VeanokGym1_Q"
      },
      "source": [
        "test_event=[]\n",
        "for line in test.Content:\n",
        "  # extract only character add description of the event \n",
        "  match=re.findall('[a-zA-Z]+',str(line))\n",
        "  test_event.append(match[0:6])"
      ],
      "execution_count": null,
      "outputs": []
    },
    {
      "cell_type": "code",
      "metadata": {
        "id": "AFjWufJZnDuo"
      },
      "source": [
        "test['Event_Description'] = test_event"
      ],
      "execution_count": null,
      "outputs": []
    },
    {
      "cell_type": "code",
      "metadata": {
        "colab": {
          "base_uri": "https://localhost:8080/",
          "height": 204
        },
        "id": "eZRHGmKnnY_R",
        "outputId": "3af62af0-abb9-4d54-c246-09826d8bffeb"
      },
      "source": [
        "test_event = test.iloc[:, 6:8].copy()\n",
        "test_event.head()"
      ],
      "execution_count": null,
      "outputs": [
        {
          "output_type": "execute_result",
          "data": {
            "text/html": [
              "<div>\n",
              "<style scoped>\n",
              "    .dataframe tbody tr th:only-of-type {\n",
              "        vertical-align: middle;\n",
              "    }\n",
              "\n",
              "    .dataframe tbody tr th {\n",
              "        vertical-align: top;\n",
              "    }\n",
              "\n",
              "    .dataframe thead th {\n",
              "        text-align: right;\n",
              "    }\n",
              "</style>\n",
              "<table border=\"1\" class=\"dataframe\">\n",
              "  <thead>\n",
              "    <tr style=\"text-align: right;\">\n",
              "      <th></th>\n",
              "      <th>BlockId</th>\n",
              "      <th>Event_Description</th>\n",
              "    </tr>\n",
              "  </thead>\n",
              "  <tbody>\n",
              "    <tr>\n",
              "      <th>0</th>\n",
              "      <td>38865049064139660</td>\n",
              "      <td>[PacketResponder, for, block, blk, terminating]</td>\n",
              "    </tr>\n",
              "    <tr>\n",
              "      <th>1</th>\n",
              "      <td>6952295868487656571</td>\n",
              "      <td>[PacketResponder, for, block, blk, terminating]</td>\n",
              "    </tr>\n",
              "    <tr>\n",
              "      <th>2</th>\n",
              "      <td>7128370237687728475</td>\n",
              "      <td>[BLOCK, NameSystem, addStoredBlock, blockMap, ...</td>\n",
              "    </tr>\n",
              "    <tr>\n",
              "      <th>3</th>\n",
              "      <td>8229193803249955061</td>\n",
              "      <td>[PacketResponder, for, block, blk, terminating]</td>\n",
              "    </tr>\n",
              "    <tr>\n",
              "      <th>4</th>\n",
              "      <td>6670958622368987959</td>\n",
              "      <td>[PacketResponder, for, block, blk, terminating]</td>\n",
              "    </tr>\n",
              "  </tbody>\n",
              "</table>\n",
              "</div>"
            ],
            "text/plain": [
              "               BlockId                                  Event_Description\n",
              "0    38865049064139660    [PacketResponder, for, block, blk, terminating]\n",
              "1  6952295868487656571    [PacketResponder, for, block, blk, terminating]\n",
              "2  7128370237687728475  [BLOCK, NameSystem, addStoredBlock, blockMap, ...\n",
              "3  8229193803249955061    [PacketResponder, for, block, blk, terminating]\n",
              "4  6670958622368987959    [PacketResponder, for, block, blk, terminating]"
            ]
          },
          "metadata": {
            "tags": []
          },
          "execution_count": 35
        }
      ]
    },
    {
      "cell_type": "code",
      "metadata": {
        "colab": {
          "base_uri": "https://localhost:8080/",
          "height": 204
        },
        "id": "PPzNx_2cnnBr",
        "outputId": "7774ade7-1eb9-4353-fe5b-0bc71ef9584d"
      },
      "source": [
        "test_event = test_event.groupby('BlockId')['Event_Description'].apply(sum).reset_index(name='Events')\n",
        "test_event.head()"
      ],
      "execution_count": null,
      "outputs": [
        {
          "output_type": "execute_result",
          "data": {
            "text/html": [
              "<div>\n",
              "<style scoped>\n",
              "    .dataframe tbody tr th:only-of-type {\n",
              "        vertical-align: middle;\n",
              "    }\n",
              "\n",
              "    .dataframe tbody tr th {\n",
              "        vertical-align: top;\n",
              "    }\n",
              "\n",
              "    .dataframe thead th {\n",
              "        text-align: right;\n",
              "    }\n",
              "</style>\n",
              "<table border=\"1\" class=\"dataframe\">\n",
              "  <thead>\n",
              "    <tr style=\"text-align: right;\">\n",
              "      <th></th>\n",
              "      <th>BlockId</th>\n",
              "      <th>Events</th>\n",
              "    </tr>\n",
              "  </thead>\n",
              "  <tbody>\n",
              "    <tr>\n",
              "      <th>0</th>\n",
              "      <td>1002945451269828722</td>\n",
              "      <td>[PacketResponder, for, block, blk, terminating]</td>\n",
              "    </tr>\n",
              "    <tr>\n",
              "      <th>1</th>\n",
              "      <td>1018961650823645078</td>\n",
              "      <td>[Deleting, block, blk, file, mnt, hadoop]</td>\n",
              "    </tr>\n",
              "    <tr>\n",
              "      <th>2</th>\n",
              "      <td>1021828391502582165</td>\n",
              "      <td>[BLOCK, NameSystem, addStoredBlock, blockMap, ...</td>\n",
              "    </tr>\n",
              "    <tr>\n",
              "      <th>3</th>\n",
              "      <td>102441832197223997</td>\n",
              "      <td>[Receiving, block, blk, src, dest]</td>\n",
              "    </tr>\n",
              "    <tr>\n",
              "      <th>4</th>\n",
              "      <td>1030832046197982436</td>\n",
              "      <td>[BLOCK, NameSystem, delete, blk, is, added]</td>\n",
              "    </tr>\n",
              "  </tbody>\n",
              "</table>\n",
              "</div>"
            ],
            "text/plain": [
              "               BlockId                                             Events\n",
              "0  1002945451269828722    [PacketResponder, for, block, blk, terminating]\n",
              "1  1018961650823645078          [Deleting, block, blk, file, mnt, hadoop]\n",
              "2  1021828391502582165  [BLOCK, NameSystem, addStoredBlock, blockMap, ...\n",
              "3   102441832197223997                 [Receiving, block, blk, src, dest]\n",
              "4  1030832046197982436        [BLOCK, NameSystem, delete, blk, is, added]"
            ]
          },
          "metadata": {
            "tags": []
          },
          "execution_count": 36
        }
      ]
    },
    {
      "cell_type": "code",
      "metadata": {
        "colab": {
          "base_uri": "https://localhost:8080/"
        },
        "id": "Dzdxu3fcooWY",
        "outputId": "c86a4363-ac32-4d51-a966-f7ffc553f333"
      },
      "source": [
        "test_event.Events[0]"
      ],
      "execution_count": null,
      "outputs": [
        {
          "output_type": "execute_result",
          "data": {
            "text/plain": [
              "['PacketResponder', 'for', 'block', 'blk', 'terminating']"
            ]
          },
          "metadata": {
            "tags": []
          },
          "execution_count": 38
        }
      ]
    },
    {
      "cell_type": "code",
      "metadata": {
        "id": "eRJRJeWaoLF7"
      },
      "source": [
        "test = []\n",
        "for event in test_event[\"Events\"]:\n",
        "  test.append(event)"
      ],
      "execution_count": null,
      "outputs": []
    },
    {
      "cell_type": "markdown",
      "metadata": {
        "id": "EuE_Zvv9m3NY"
      },
      "source": [
        "# **Prediction**"
      ]
    },
    {
      "cell_type": "code",
      "metadata": {
        "colab": {
          "base_uri": "https://localhost:8080/"
        },
        "id": "JfRxWYhiITUG",
        "outputId": "2450f5ed-b845-400d-a3be-05d90a94ff63"
      },
      "source": [
        "trainDataVecs = getAvgFeatureVecs(events, model, num_features )"
      ],
      "execution_count": 20,
      "outputs": [
        {
          "output_type": "stream",
          "text": [
            "Block id 0 of 575061\n"
          ],
          "name": "stdout"
        },
        {
          "output_type": "stream",
          "text": [
            "/usr/local/lib/python3.7/dist-packages/ipykernel_launcher.py:12: DeprecationWarning: Call to deprecated `__getitem__` (Method will be removed in 4.0.0, use self.wv.__getitem__() instead).\n",
            "  if sys.path[0] == '':\n"
          ],
          "name": "stderr"
        },
        {
          "output_type": "stream",
          "text": [
            "Block id 10000 of 575061\n",
            "Block id 20000 of 575061\n",
            "Block id 30000 of 575061\n",
            "Block id 40000 of 575061\n",
            "Block id 50000 of 575061\n",
            "Block id 60000 of 575061\n",
            "Block id 70000 of 575061\n",
            "Block id 80000 of 575061\n",
            "Block id 90000 of 575061\n",
            "Block id 100000 of 575061\n",
            "Block id 110000 of 575061\n",
            "Block id 120000 of 575061\n",
            "Block id 130000 of 575061\n",
            "Block id 140000 of 575061\n",
            "Block id 150000 of 575061\n",
            "Block id 160000 of 575061\n",
            "Block id 170000 of 575061\n",
            "Block id 180000 of 575061\n",
            "Block id 190000 of 575061\n",
            "Block id 200000 of 575061\n",
            "Block id 210000 of 575061\n",
            "Block id 220000 of 575061\n",
            "Block id 230000 of 575061\n",
            "Block id 240000 of 575061\n",
            "Block id 250000 of 575061\n",
            "Block id 260000 of 575061\n",
            "Block id 270000 of 575061\n",
            "Block id 280000 of 575061\n",
            "Block id 290000 of 575061\n",
            "Block id 300000 of 575061\n",
            "Block id 310000 of 575061\n",
            "Block id 320000 of 575061\n",
            "Block id 330000 of 575061\n",
            "Block id 340000 of 575061\n",
            "Block id 350000 of 575061\n",
            "Block id 360000 of 575061\n",
            "Block id 370000 of 575061\n",
            "Block id 380000 of 575061\n",
            "Block id 390000 of 575061\n",
            "Block id 400000 of 575061\n",
            "Block id 410000 of 575061\n",
            "Block id 420000 of 575061\n",
            "Block id 430000 of 575061\n",
            "Block id 440000 of 575061\n",
            "Block id 450000 of 575061\n",
            "Block id 460000 of 575061\n",
            "Block id 470000 of 575061\n",
            "Block id 480000 of 575061\n",
            "Block id 490000 of 575061\n",
            "Block id 500000 of 575061\n",
            "Block id 510000 of 575061\n",
            "Block id 520000 of 575061\n",
            "Block id 530000 of 575061\n",
            "Block id 540000 of 575061\n",
            "Block id 550000 of 575061\n",
            "Block id 560000 of 575061\n",
            "Block id 570000 of 575061\n"
          ],
          "name": "stdout"
        }
      ]
    },
    {
      "cell_type": "code",
      "metadata": {
        "id": "x5qfE8NToWqW"
      },
      "source": [
        "from sklearn.decomposition import PCA\n",
        "\n",
        "from gensim.test.utils import datapath, get_tmpfile\n",
        "from gensim.models import KeyedVectors\n",
        "from gensim.scripts.glove2word2vec import glove2word2vec\n",
        "\n",
        "def display_pca_scatterplot(model, words=None, sample=0):\n",
        "    if words == None:\n",
        "        if sample > 0:\n",
        "            words = np.random.choice(list(model.wv.vocab.keys()), sample)\n",
        "        else:\n",
        "            words = [word for word in model.wv.vocab ]\n",
        "        \n",
        "    word_vectors = np.array([model.wv[w] for w in words])\n",
        "\n",
        "    twodim = PCA().fit_transform(word_vectors)[:,:2]\n",
        "    \n",
        "    plt.figure(figsize=(10,7))\n",
        "    plt.scatter(twodim[:,0], twodim[:,1], edgecolors='k', c='r')\n",
        "    for word, (x,y) in zip(words, twodim):\n",
        "        plt.text(x+0.05, y+0.05, word)"
      ],
      "execution_count": null,
      "outputs": []
    },
    {
      "cell_type": "code",
      "metadata": {
        "colab": {
          "base_uri": "https://localhost:8080/",
          "height": 431
        },
        "id": "pAiitC7_oXhA",
        "outputId": "509af2da-84d9-44e2-8ef2-d317acba265a"
      },
      "source": [
        "display_pca_scatterplot(model, sample=300)"
      ],
      "execution_count": 22,
      "outputs": [
        {
          "output_type": "display_data",
          "data": {
            "image/png": "[encoded data removed]",
            "text/plain": [
              "<Figure size 720x504 with 1 Axes>"
            ]
          },
          "metadata": {
            "tags": [],
            "needs_background": "light"
          }
        }
      ]
    },
    {
      "cell_type": "code",
      "metadata": {
        "colab": {
          "base_uri": "https://localhost:8080/"
        },
        "id": "OPEyIk10o8pB",
        "outputId": "56f5e569-38e1-45bc-b9a8-457e08fab40d"
      },
      "source": [
        "num_features = 300\n",
        "testDataVecs = getAvgFeatureVecs(test, model, num_features)"
      ],
      "execution_count": null,
      "outputs": [
        {
          "output_type": "stream",
          "text": [
            "Block id 0 of 1994\n"
          ],
          "name": "stdout"
        },
        {
          "output_type": "stream",
          "text": [
            "/usr/local/lib/python3.7/dist-packages/ipykernel_launcher.py:16: DeprecationWarning: Call to deprecated `__getitem__` (Method will be removed in 4.0.0, use self.wv.__getitem__() instead).\n",
            "  app.launch_new_instance()\n"
          ],
          "name": "stderr"
        }
      ]
    },
    {
      "cell_type": "markdown",
      "metadata": {
        "id": "xoP78152Jcf8"
      },
      "source": [
        "# **Random Forest**"
      ]
    },
    {
      "cell_type": "markdown",
      "metadata": {
        "id": "BOLGPTnF-sb8"
      },
      "source": [
        "**Split the HDFS.1**"
      ]
    },
    {
      "cell_type": "code",
      "metadata": {
        "id": "hkqHlT1N-ARn"
      },
      "source": [
        "X = trainDataVecs\n",
        "y = log.iloc[:, 2]"
      ],
      "execution_count": 23,
      "outputs": []
    },
    {
      "cell_type": "code",
      "metadata": {
        "id": "VMXk-FqA9_hb"
      },
      "source": [
        "X_train, X_test, y_train, y_test = train_test_split(X, y, test_size=0.2, random_state=0)"
      ],
      "execution_count": 24,
      "outputs": []
    },
    {
      "cell_type": "code",
      "metadata": {
        "id": "ruqSwtAUX9mF"
      },
      "source": [
        "np.save(\"X_train.npy\", X_train)\n",
        "np.save(\"X_test.npy\", X_test)"
      ],
      "execution_count": null,
      "outputs": []
    },
    {
      "cell_type": "code",
      "metadata": {
        "colab": {
          "base_uri": "https://localhost:8080/"
        },
        "id": "7rv0Od2wORK6",
        "outputId": "b1bc08a4-5d5c-43ba-bd3c-508b49db9c4b"
      },
      "source": [
        "y_train.value_counts()"
      ],
      "execution_count": 25,
      "outputs": [
        {
          "output_type": "execute_result",
          "data": {
            "text/plain": [
              "Normal     446525\n",
              "Anomaly     13523\n",
              "Name: Label, dtype: int64"
            ]
          },
          "metadata": {
            "tags": []
          },
          "execution_count": 25
        }
      ]
    },
    {
      "cell_type": "code",
      "metadata": {
        "colab": {
          "base_uri": "https://localhost:8080/"
        },
        "id": "cQ5bIZ1kVKuQ",
        "outputId": "5e9fa4a1-4598-4fe6-9e45-d032a3ac9805"
      },
      "source": [
        "y_test.value_counts()"
      ],
      "execution_count": 26,
      "outputs": [
        {
          "output_type": "execute_result",
          "data": {
            "text/plain": [
              "Normal     111698\n",
              "Anomaly      3315\n",
              "Name: Label, dtype: int64"
            ]
          },
          "metadata": {
            "tags": []
          },
          "execution_count": 26
        }
      ]
    },
    {
      "cell_type": "code",
      "metadata": {
        "id": "BFB61tXd-7L7"
      },
      "source": [
        "# Train the model\n",
        "classifier = RandomForestClassifier(n_estimators=1000, random_state=0)\n",
        "classifier.fit(X_train, y_train)\n",
        "\n",
        "# Prediction\n",
        "y_pred = classifier.predict(X_test)"
      ],
      "execution_count": null,
      "outputs": []
    },
    {
      "cell_type": "code",
      "metadata": {
        "colab": {
          "base_uri": "https://localhost:8080/"
        },
        "id": "yt1wId_u_Lha",
        "outputId": "6def8017-9b65-47e2-d5df-444012d4384a"
      },
      "source": [
        "# Evaluate model\n",
        "from sklearn.metrics import classification_report, confusion_matrix, accuracy_score\n",
        "print(confusion_matrix(y_test,y_pred))\n",
        "print(classification_report(y_test,y_pred))\n",
        "print(accuracy_score(y_test, y_pred))"
      ],
      "execution_count": null,
      "outputs": [
        {
          "output_type": "stream",
          "text": [
            "[[  3311      4]\n",
            " [     5 111693]]\n",
            "              precision    recall  f1-score   support\n",
            "\n",
            "     Anomaly       1.00      1.00      1.00      3315\n",
            "      Normal       1.00      1.00      1.00    111698\n",
            "\n",
            "    accuracy                           1.00    115013\n",
            "   macro avg       1.00      1.00      1.00    115013\n",
            "weighted avg       1.00      1.00      1.00    115013\n",
            "\n",
            "0.9999217479763157\n"
          ],
          "name": "stdout"
        }
      ]
    },
    {
      "cell_type": "code",
      "metadata": {
        "id": "erWYS7O1R_Nv"
      },
      "source": [
        "# Save model\n",
        "\n",
        "with open('RF_W2V_AVG_classifier', 'wb') as picklefile:\n",
        "    pickle.dump(classifier,picklefile)"
      ],
      "execution_count": null,
      "outputs": []
    },
    {
      "cell_type": "code",
      "metadata": {
        "id": "eRV1ZcJHSQ82"
      },
      "source": [
        "# Load model\n",
        "\n",
        "with open('RF_BW_classifier', 'rb') as training_model:\n",
        "    model = pickle.load(training_model)"
      ],
      "execution_count": null,
      "outputs": []
    },
    {
      "cell_type": "markdown",
      "metadata": {
        "id": "V7rNlPdTrmtu"
      },
      "source": [
        "# **Logistic Regression**"
      ]
    },
    {
      "cell_type": "code",
      "metadata": {
        "colab": {
          "base_uri": "https://localhost:8080/"
        },
        "id": "A7RSjy2_rpwr",
        "outputId": "7a959774-a2f2-4bad-bcd5-1799b047fbaa"
      },
      "source": [
        "# Train the model\n",
        "classifier = LogisticRegression(verbose=1, solver='liblinear',random_state=0, C=5, penalty='l2',max_iter=1000)\n",
        "classifier.fit(X_train, y_train)\n",
        "\n",
        "# Prediction\n",
        "y_pred = classifier.predict(X_test)"
      ],
      "execution_count": null,
      "outputs": [
        {
          "output_type": "stream",
          "text": [
            "[LibLinear]"
          ],
          "name": "stdout"
        }
      ]
    },
    {
      "cell_type": "code",
      "metadata": {
        "colab": {
          "base_uri": "https://localhost:8080/"
        },
        "id": "EUdU4kmfsBpV",
        "outputId": "5973657f-836f-4229-9168-d47512e2fe57"
      },
      "source": [
        "# Evaluate model\n",
        "from sklearn.metrics import classification_report, confusion_matrix, accuracy_score\n",
        "print(confusion_matrix(y_test,y_pred))\n",
        "print(classification_report(y_test,y_pred))\n",
        "print(accuracy_score(y_test, y_pred))"
      ],
      "execution_count": null,
      "outputs": [
        {
          "output_type": "stream",
          "text": [
            "[[  1507   1808]\n",
            " [    70 111628]]\n",
            "              precision    recall  f1-score   support\n",
            "\n",
            "     Anomaly       0.96      0.45      0.62      3315\n",
            "      Normal       0.98      1.00      0.99    111698\n",
            "\n",
            "    accuracy                           0.98    115013\n",
            "   macro avg       0.97      0.73      0.80    115013\n",
            "weighted avg       0.98      0.98      0.98    115013\n",
            "\n",
            "0.9836714110578804\n"
          ],
          "name": "stdout"
        }
      ]
    },
    {
      "cell_type": "markdown",
      "metadata": {
        "id": "EXkh35nfLSuH"
      },
      "source": [
        "# **Word2vec Training - Clustering**"
      ]
    },
    {
      "cell_type": "code",
      "metadata": {
        "colab": {
          "base_uri": "https://localhost:8080/"
        },
        "id": "3MHMSyZ5LXzc",
        "outputId": "daeeac18-02e5-4cec-93ee-2008a2bb1233"
      },
      "source": [
        "from sklearn.cluster import KMeans\n",
        "\n",
        "# Set \"k\" (num_clusters) to be 1/5th of the vocabulary size, or an average of 5 words per cluster\n",
        "word_vectors = model.wv.syn0\n",
        "num_clusters = word_vectors.shape[0] // 5\n",
        "\n",
        "# Initalize a k-means object and use it to extract centroids\n",
        "kmeans_clustering = KMeans(n_clusters = num_clusters)\n",
        "idx = kmeans_clustering.fit_predict(word_vectors)\n"
      ],
      "execution_count": 35,
      "outputs": [
        {
          "output_type": "stream",
          "text": [
            "/usr/local/lib/python3.7/dist-packages/ipykernel_launcher.py:4: DeprecationWarning: Call to deprecated `syn0` (Attribute will be removed in 4.0.0, use self.wv.vectors instead).\n",
            "  after removing the cwd from sys.path.\n"
          ],
          "name": "stderr"
        }
      ]
    },
    {
      "cell_type": "code",
      "metadata": {
        "id": "5E7sUUPDNbLw"
      },
      "source": [
        "                                                                                           \n",
        "word_centroid_map = dict(zip(model.wv.index2word, idx))"
      ],
      "execution_count": null,
      "outputs": []
    },
    {
      "cell_type": "code",
      "metadata": {
        "colab": {
          "base_uri": "https://localhost:8080/"
        },
        "id": "BXYTyCKbNgaG",
        "outputId": "97697d54-829d-401f-8544-e1eefe965a3b"
      },
      "source": [
        "# For the first 10 clusters\n",
        "for cluster in range(0,10):\n",
        "  \n",
        "    print (\"\\nCluster %d\" % cluster)\n",
        "\n",
        "    words = []\n",
        "    for i in range(0,len(word_centroid_map.values())):\n",
        "        if(list(word_centroid_map.values())[i] == cluster):\n",
        "          words.append(list(word_centroid_map.keys())[i])\n",
        "    print(words)"
      ],
      "execution_count": null,
      "outputs": [
        {
          "output_type": "stream",
          "text": [
            "\n",
            "Cluster 0\n",
            "['to', 'Served', 'exception', 'Got', 'while', 'serving', 'Verification']\n",
            "\n",
            "Cluster 1\n",
            "['blk', 'block', 'for', 'src', 'dest', 'Receiving', 'of', 'Received', 'PacketResponder', 'terminating', 'from', 'size', 'allocateBlock', 'user', 'root']\n",
            "\n",
            "Cluster 2\n",
            "['Exception', 'in', 'receiveBlock', 'Changing', 'offset', 'net', 'Interrupted']\n",
            "\n",
            "Cluster 3\n",
            "['received', 'Redundant']\n",
            "\n",
            "Cluster 4\n",
            "['transfer', 'ask', 'Starting', 'thread', 'Transmitted']\n",
            "\n",
            "Cluster 5\n",
            "['BLOCK', 'mnt', 'hadoop', 'file', 'Deleting', 'delete', 'added', 'succeeded']\n",
            "\n",
            "Cluster 6\n",
            "['NameSystem', 'is', 'blockMap', 'updated']\n",
            "\n",
            "Cluster 7\n",
            "['trying', 'empty', 'packet']\n",
            "\n",
            "Cluster 8\n",
            "['rand', 'randtxt', 'sortrand', 'wcnt', 'mapred']\n",
            "\n",
            "Cluster 9\n",
            "['PendingReplicationMonitor', 'timed', 'out']\n"
          ],
          "name": "stdout"
        }
      ]
    },
    {
      "cell_type": "markdown",
      "metadata": {
        "id": "Uu6xIhVTFD4n"
      },
      "source": [
        "# **Bag of Words**"
      ]
    },
    {
      "cell_type": "code",
      "metadata": {
        "id": "NsfzDNTMWMqm"
      },
      "source": [
        "normal = log[log['Label'] == 'Normal']\n",
        "anomaly = log[log['Label'] == 'Anomaly']"
      ],
      "execution_count": null,
      "outputs": []
    },
    {
      "cell_type": "code",
      "metadata": {
        "id": "bfEuVvv8TNTy"
      },
      "source": [
        "items = (log['Event_Description'].unique())"
      ],
      "execution_count": null,
      "outputs": []
    },
    {
      "cell_type": "code",
      "metadata": {
        "id": "8HKOPTLj1GM7"
      },
      "source": [
        "data_dtm=data_dtm.transpose()\n",
        "\n",
        "top_dict = {}\n",
        "for i in data_dtm.columns:\n",
        "  top = data_dtm[i].sort_values(ascending=False).head(20)\n",
        "  top_dict[i]=list(zip(top.index,top.values))"
      ],
      "execution_count": null,
      "outputs": []
    },
    {
      "cell_type": "code",
      "metadata": {
        "id": "LkhqtKUV0_Bf"
      },
      "source": [
        "words =[]\n",
        "\n",
        "for x in data_dtm.columns:\n",
        "  top = [word for (word, count) in top_dict[x]]\n",
        "  for t in top:\n",
        "    words.append(t)"
      ],
      "execution_count": null,
      "outputs": []
    },
    {
      "cell_type": "code",
      "metadata": {
        "id": "i2vonVh-1Wlq"
      },
      "source": [
        "stop_words = [word for word,count in Counter(words).most_common() if count>575061*0.7]"
      ],
      "execution_count": null,
      "outputs": []
    },
    {
      "cell_type": "markdown",
      "metadata": {
        "id": "iJpYRABRd8yx"
      },
      "source": [
        "# **Random Forest - Using Bag of Words**"
      ]
    },
    {
      "cell_type": "code",
      "metadata": {
        "id": "Fyfo0_z6pq6j"
      },
      "source": [
        "data_dtm = pd.read_pickle(\"/content/data586_Project/MyDrive/DATA586_Project/dtm.pkl\")"
      ],
      "execution_count": 27,
      "outputs": []
    },
    {
      "cell_type": "code",
      "metadata": {
        "colab": {
          "base_uri": "https://localhost:8080/",
          "height": 408
        },
        "id": "3l5iaqpQeZbd",
        "outputId": "0b0fb90e-8efa-4b0e-94bc-6b2837baa835"
      },
      "source": [
        "data_dtm.reset_index(inplace=True)\n",
        "data_dtm.head(10)"
      ],
      "execution_count": 28,
      "outputs": [
        {
          "output_type": "execute_result",
          "data": {
            "text/html": [
              "<div>\n",
              "<style scoped>\n",
              "    .dataframe tbody tr th:only-of-type {\n",
              "        vertical-align: middle;\n",
              "    }\n",
              "\n",
              "    .dataframe tbody tr th {\n",
              "        vertical-align: top;\n",
              "    }\n",
              "\n",
              "    .dataframe thead th {\n",
              "        text-align: right;\n",
              "    }\n",
              "</style>\n",
              "<table border=\"1\" class=\"dataframe\">\n",
              "  <thead>\n",
              "    <tr style=\"text-align: right;\">\n",
              "      <th></th>\n",
              "      <th>BlockId</th>\n",
              "      <th>Label</th>\n",
              "      <th>added</th>\n",
              "      <th>adding</th>\n",
              "      <th>addstoredblock</th>\n",
              "      <th>allocateblock</th>\n",
              "      <th>ask</th>\n",
              "      <th>belong</th>\n",
              "      <th>blk</th>\n",
              "      <th>block</th>\n",
              "      <th>blockinfo</th>\n",
              "      <th>blockmap</th>\n",
              "      <th>broken</th>\n",
              "      <th>ch</th>\n",
              "      <th>changing</th>\n",
              "      <th>channel</th>\n",
              "      <th>channels</th>\n",
              "      <th>closed</th>\n",
              "      <th>closedbyinterruptexception</th>\n",
              "      <th>conf</th>\n",
              "      <th>connected</th>\n",
              "      <th>connection</th>\n",
              "      <th>current</th>\n",
              "      <th>data</th>\n",
              "      <th>datanode</th>\n",
              "      <th>delete</th>\n",
              "      <th>deleting</th>\n",
              "      <th>dest</th>\n",
              "      <th>dfs</th>\n",
              "      <th>does</th>\n",
              "      <th>ec</th>\n",
              "      <th>eofexception</th>\n",
              "      <th>error</th>\n",
              "      <th>exception</th>\n",
              "      <th>existing</th>\n",
              "      <th>failed</th>\n",
              "      <th>file</th>\n",
              "      <th>got</th>\n",
              "      <th>grep</th>\n",
              "      <th>grepa</th>\n",
              "      <th>...</th>\n",
              "      <th>served</th>\n",
              "      <th>serving</th>\n",
              "      <th>size</th>\n",
              "      <th>socketchannel</th>\n",
              "      <th>sockettimeoutexception</th>\n",
              "      <th>sort</th>\n",
              "      <th>sorter</th>\n",
              "      <th>sortrand</th>\n",
              "      <th>split</th>\n",
              "      <th>src</th>\n",
              "      <th>starting</th>\n",
              "      <th>stream</th>\n",
              "      <th>subdir</th>\n",
              "      <th>succeeded</th>\n",
              "      <th>task</th>\n",
              "      <th>temp</th>\n",
              "      <th>temporary</th>\n",
              "      <th>terminating</th>\n",
              "      <th>text</th>\n",
              "      <th>thread</th>\n",
              "      <th>timed</th>\n",
              "      <th>timeout</th>\n",
              "      <th>transfer</th>\n",
              "      <th>transmitted</th>\n",
              "      <th>trying</th>\n",
              "      <th>unexpected</th>\n",
              "      <th>updated</th>\n",
              "      <th>user</th>\n",
              "      <th>valid</th>\n",
              "      <th>verification</th>\n",
              "      <th>volumemap</th>\n",
              "      <th>waiting</th>\n",
              "      <th>wcnt</th>\n",
              "      <th>wordcount</th>\n",
              "      <th>write</th>\n",
              "      <th>writeblock</th>\n",
              "      <th>writer</th>\n",
              "      <th>writing</th>\n",
              "      <th>written</th>\n",
              "      <th>xml</th>\n",
              "    </tr>\n",
              "  </thead>\n",
              "  <tbody>\n",
              "    <tr>\n",
              "      <th>0</th>\n",
              "      <td>24807389905763</td>\n",
              "      <td>Normal</td>\n",
              "      <td>6</td>\n",
              "      <td>0</td>\n",
              "      <td>3</td>\n",
              "      <td>1</td>\n",
              "      <td>0</td>\n",
              "      <td>0</td>\n",
              "      <td>22</td>\n",
              "      <td>19</td>\n",
              "      <td>0</td>\n",
              "      <td>3</td>\n",
              "      <td>0</td>\n",
              "      <td>0</td>\n",
              "      <td>0</td>\n",
              "      <td>0</td>\n",
              "      <td>0</td>\n",
              "      <td>0</td>\n",
              "      <td>0</td>\n",
              "      <td>0</td>\n",
              "      <td>0</td>\n",
              "      <td>0</td>\n",
              "      <td>3</td>\n",
              "      <td>3</td>\n",
              "      <td>0</td>\n",
              "      <td>3</td>\n",
              "      <td>3</td>\n",
              "      <td>3</td>\n",
              "      <td>3</td>\n",
              "      <td>0</td>\n",
              "      <td>0</td>\n",
              "      <td>0</td>\n",
              "      <td>0</td>\n",
              "      <td>0</td>\n",
              "      <td>0</td>\n",
              "      <td>0</td>\n",
              "      <td>3</td>\n",
              "      <td>0</td>\n",
              "      <td>0</td>\n",
              "      <td>0</td>\n",
              "      <td>...</td>\n",
              "      <td>0</td>\n",
              "      <td>0</td>\n",
              "      <td>6</td>\n",
              "      <td>0</td>\n",
              "      <td>0</td>\n",
              "      <td>0</td>\n",
              "      <td>0</td>\n",
              "      <td>1</td>\n",
              "      <td>0</td>\n",
              "      <td>3</td>\n",
              "      <td>0</td>\n",
              "      <td>0</td>\n",
              "      <td>3</td>\n",
              "      <td>0</td>\n",
              "      <td>1</td>\n",
              "      <td>0</td>\n",
              "      <td>1</td>\n",
              "      <td>3</td>\n",
              "      <td>0</td>\n",
              "      <td>0</td>\n",
              "      <td>0</td>\n",
              "      <td>0</td>\n",
              "      <td>0</td>\n",
              "      <td>0</td>\n",
              "      <td>0</td>\n",
              "      <td>0</td>\n",
              "      <td>3</td>\n",
              "      <td>1</td>\n",
              "      <td>0</td>\n",
              "      <td>0</td>\n",
              "      <td>0</td>\n",
              "      <td>0</td>\n",
              "      <td>0</td>\n",
              "      <td>0</td>\n",
              "      <td>0</td>\n",
              "      <td>0</td>\n",
              "      <td>0</td>\n",
              "      <td>0</td>\n",
              "      <td>0</td>\n",
              "      <td>0</td>\n",
              "    </tr>\n",
              "    <tr>\n",
              "      <th>1</th>\n",
              "      <td>27644297472372</td>\n",
              "      <td>Normal</td>\n",
              "      <td>6</td>\n",
              "      <td>0</td>\n",
              "      <td>3</td>\n",
              "      <td>1</td>\n",
              "      <td>0</td>\n",
              "      <td>0</td>\n",
              "      <td>22</td>\n",
              "      <td>19</td>\n",
              "      <td>0</td>\n",
              "      <td>3</td>\n",
              "      <td>0</td>\n",
              "      <td>0</td>\n",
              "      <td>0</td>\n",
              "      <td>0</td>\n",
              "      <td>0</td>\n",
              "      <td>0</td>\n",
              "      <td>0</td>\n",
              "      <td>0</td>\n",
              "      <td>0</td>\n",
              "      <td>0</td>\n",
              "      <td>3</td>\n",
              "      <td>3</td>\n",
              "      <td>0</td>\n",
              "      <td>3</td>\n",
              "      <td>3</td>\n",
              "      <td>3</td>\n",
              "      <td>3</td>\n",
              "      <td>0</td>\n",
              "      <td>0</td>\n",
              "      <td>0</td>\n",
              "      <td>0</td>\n",
              "      <td>0</td>\n",
              "      <td>0</td>\n",
              "      <td>0</td>\n",
              "      <td>3</td>\n",
              "      <td>0</td>\n",
              "      <td>0</td>\n",
              "      <td>0</td>\n",
              "      <td>...</td>\n",
              "      <td>0</td>\n",
              "      <td>0</td>\n",
              "      <td>6</td>\n",
              "      <td>0</td>\n",
              "      <td>0</td>\n",
              "      <td>0</td>\n",
              "      <td>0</td>\n",
              "      <td>1</td>\n",
              "      <td>0</td>\n",
              "      <td>3</td>\n",
              "      <td>0</td>\n",
              "      <td>0</td>\n",
              "      <td>3</td>\n",
              "      <td>0</td>\n",
              "      <td>1</td>\n",
              "      <td>0</td>\n",
              "      <td>1</td>\n",
              "      <td>3</td>\n",
              "      <td>0</td>\n",
              "      <td>0</td>\n",
              "      <td>0</td>\n",
              "      <td>0</td>\n",
              "      <td>0</td>\n",
              "      <td>0</td>\n",
              "      <td>0</td>\n",
              "      <td>0</td>\n",
              "      <td>3</td>\n",
              "      <td>1</td>\n",
              "      <td>0</td>\n",
              "      <td>0</td>\n",
              "      <td>0</td>\n",
              "      <td>0</td>\n",
              "      <td>0</td>\n",
              "      <td>0</td>\n",
              "      <td>0</td>\n",
              "      <td>0</td>\n",
              "      <td>0</td>\n",
              "      <td>0</td>\n",
              "      <td>0</td>\n",
              "      <td>0</td>\n",
              "    </tr>\n",
              "    <tr>\n",
              "      <th>2</th>\n",
              "      <td>33380551139732</td>\n",
              "      <td>Normal</td>\n",
              "      <td>6</td>\n",
              "      <td>0</td>\n",
              "      <td>3</td>\n",
              "      <td>1</td>\n",
              "      <td>0</td>\n",
              "      <td>0</td>\n",
              "      <td>34</td>\n",
              "      <td>27</td>\n",
              "      <td>0</td>\n",
              "      <td>3</td>\n",
              "      <td>0</td>\n",
              "      <td>0</td>\n",
              "      <td>0</td>\n",
              "      <td>0</td>\n",
              "      <td>0</td>\n",
              "      <td>0</td>\n",
              "      <td>0</td>\n",
              "      <td>0</td>\n",
              "      <td>0</td>\n",
              "      <td>0</td>\n",
              "      <td>3</td>\n",
              "      <td>3</td>\n",
              "      <td>0</td>\n",
              "      <td>3</td>\n",
              "      <td>3</td>\n",
              "      <td>3</td>\n",
              "      <td>3</td>\n",
              "      <td>0</td>\n",
              "      <td>0</td>\n",
              "      <td>0</td>\n",
              "      <td>0</td>\n",
              "      <td>4</td>\n",
              "      <td>0</td>\n",
              "      <td>0</td>\n",
              "      <td>3</td>\n",
              "      <td>4</td>\n",
              "      <td>0</td>\n",
              "      <td>0</td>\n",
              "      <td>...</td>\n",
              "      <td>8</td>\n",
              "      <td>4</td>\n",
              "      <td>6</td>\n",
              "      <td>0</td>\n",
              "      <td>0</td>\n",
              "      <td>0</td>\n",
              "      <td>0</td>\n",
              "      <td>0</td>\n",
              "      <td>0</td>\n",
              "      <td>3</td>\n",
              "      <td>0</td>\n",
              "      <td>0</td>\n",
              "      <td>3</td>\n",
              "      <td>0</td>\n",
              "      <td>1</td>\n",
              "      <td>0</td>\n",
              "      <td>1</td>\n",
              "      <td>3</td>\n",
              "      <td>0</td>\n",
              "      <td>0</td>\n",
              "      <td>0</td>\n",
              "      <td>0</td>\n",
              "      <td>0</td>\n",
              "      <td>0</td>\n",
              "      <td>0</td>\n",
              "      <td>0</td>\n",
              "      <td>3</td>\n",
              "      <td>1</td>\n",
              "      <td>0</td>\n",
              "      <td>0</td>\n",
              "      <td>0</td>\n",
              "      <td>0</td>\n",
              "      <td>0</td>\n",
              "      <td>0</td>\n",
              "      <td>0</td>\n",
              "      <td>0</td>\n",
              "      <td>0</td>\n",
              "      <td>0</td>\n",
              "      <td>0</td>\n",
              "      <td>0</td>\n",
              "    </tr>\n",
              "    <tr>\n",
              "      <th>3</th>\n",
              "      <td>35641716531335</td>\n",
              "      <td>Normal</td>\n",
              "      <td>6</td>\n",
              "      <td>0</td>\n",
              "      <td>3</td>\n",
              "      <td>1</td>\n",
              "      <td>0</td>\n",
              "      <td>0</td>\n",
              "      <td>22</td>\n",
              "      <td>19</td>\n",
              "      <td>0</td>\n",
              "      <td>3</td>\n",
              "      <td>0</td>\n",
              "      <td>0</td>\n",
              "      <td>0</td>\n",
              "      <td>0</td>\n",
              "      <td>0</td>\n",
              "      <td>0</td>\n",
              "      <td>0</td>\n",
              "      <td>0</td>\n",
              "      <td>0</td>\n",
              "      <td>0</td>\n",
              "      <td>3</td>\n",
              "      <td>3</td>\n",
              "      <td>0</td>\n",
              "      <td>3</td>\n",
              "      <td>3</td>\n",
              "      <td>3</td>\n",
              "      <td>3</td>\n",
              "      <td>0</td>\n",
              "      <td>0</td>\n",
              "      <td>0</td>\n",
              "      <td>0</td>\n",
              "      <td>0</td>\n",
              "      <td>0</td>\n",
              "      <td>0</td>\n",
              "      <td>3</td>\n",
              "      <td>0</td>\n",
              "      <td>0</td>\n",
              "      <td>0</td>\n",
              "      <td>...</td>\n",
              "      <td>0</td>\n",
              "      <td>0</td>\n",
              "      <td>6</td>\n",
              "      <td>0</td>\n",
              "      <td>0</td>\n",
              "      <td>0</td>\n",
              "      <td>0</td>\n",
              "      <td>0</td>\n",
              "      <td>0</td>\n",
              "      <td>3</td>\n",
              "      <td>0</td>\n",
              "      <td>0</td>\n",
              "      <td>3</td>\n",
              "      <td>0</td>\n",
              "      <td>1</td>\n",
              "      <td>0</td>\n",
              "      <td>1</td>\n",
              "      <td>3</td>\n",
              "      <td>0</td>\n",
              "      <td>0</td>\n",
              "      <td>0</td>\n",
              "      <td>0</td>\n",
              "      <td>0</td>\n",
              "      <td>0</td>\n",
              "      <td>0</td>\n",
              "      <td>0</td>\n",
              "      <td>3</td>\n",
              "      <td>1</td>\n",
              "      <td>0</td>\n",
              "      <td>0</td>\n",
              "      <td>0</td>\n",
              "      <td>0</td>\n",
              "      <td>0</td>\n",
              "      <td>0</td>\n",
              "      <td>0</td>\n",
              "      <td>0</td>\n",
              "      <td>0</td>\n",
              "      <td>0</td>\n",
              "      <td>0</td>\n",
              "      <td>0</td>\n",
              "    </tr>\n",
              "    <tr>\n",
              "      <th>4</th>\n",
              "      <td>40083153975957</td>\n",
              "      <td>Normal</td>\n",
              "      <td>6</td>\n",
              "      <td>0</td>\n",
              "      <td>3</td>\n",
              "      <td>1</td>\n",
              "      <td>0</td>\n",
              "      <td>0</td>\n",
              "      <td>22</td>\n",
              "      <td>19</td>\n",
              "      <td>0</td>\n",
              "      <td>3</td>\n",
              "      <td>0</td>\n",
              "      <td>0</td>\n",
              "      <td>0</td>\n",
              "      <td>0</td>\n",
              "      <td>0</td>\n",
              "      <td>0</td>\n",
              "      <td>0</td>\n",
              "      <td>0</td>\n",
              "      <td>0</td>\n",
              "      <td>0</td>\n",
              "      <td>3</td>\n",
              "      <td>3</td>\n",
              "      <td>0</td>\n",
              "      <td>3</td>\n",
              "      <td>3</td>\n",
              "      <td>3</td>\n",
              "      <td>3</td>\n",
              "      <td>0</td>\n",
              "      <td>0</td>\n",
              "      <td>0</td>\n",
              "      <td>0</td>\n",
              "      <td>0</td>\n",
              "      <td>0</td>\n",
              "      <td>0</td>\n",
              "      <td>3</td>\n",
              "      <td>0</td>\n",
              "      <td>0</td>\n",
              "      <td>0</td>\n",
              "      <td>...</td>\n",
              "      <td>0</td>\n",
              "      <td>0</td>\n",
              "      <td>6</td>\n",
              "      <td>0</td>\n",
              "      <td>0</td>\n",
              "      <td>0</td>\n",
              "      <td>0</td>\n",
              "      <td>0</td>\n",
              "      <td>0</td>\n",
              "      <td>3</td>\n",
              "      <td>0</td>\n",
              "      <td>0</td>\n",
              "      <td>3</td>\n",
              "      <td>0</td>\n",
              "      <td>1</td>\n",
              "      <td>0</td>\n",
              "      <td>1</td>\n",
              "      <td>3</td>\n",
              "      <td>0</td>\n",
              "      <td>0</td>\n",
              "      <td>0</td>\n",
              "      <td>0</td>\n",
              "      <td>0</td>\n",
              "      <td>0</td>\n",
              "      <td>0</td>\n",
              "      <td>0</td>\n",
              "      <td>3</td>\n",
              "      <td>1</td>\n",
              "      <td>0</td>\n",
              "      <td>0</td>\n",
              "      <td>0</td>\n",
              "      <td>0</td>\n",
              "      <td>0</td>\n",
              "      <td>0</td>\n",
              "      <td>0</td>\n",
              "      <td>0</td>\n",
              "      <td>0</td>\n",
              "      <td>0</td>\n",
              "      <td>0</td>\n",
              "      <td>0</td>\n",
              "    </tr>\n",
              "    <tr>\n",
              "      <th>5</th>\n",
              "      <td>72472557232301</td>\n",
              "      <td>Normal</td>\n",
              "      <td>6</td>\n",
              "      <td>0</td>\n",
              "      <td>3</td>\n",
              "      <td>1</td>\n",
              "      <td>0</td>\n",
              "      <td>0</td>\n",
              "      <td>22</td>\n",
              "      <td>19</td>\n",
              "      <td>0</td>\n",
              "      <td>3</td>\n",
              "      <td>0</td>\n",
              "      <td>0</td>\n",
              "      <td>0</td>\n",
              "      <td>0</td>\n",
              "      <td>0</td>\n",
              "      <td>0</td>\n",
              "      <td>0</td>\n",
              "      <td>0</td>\n",
              "      <td>0</td>\n",
              "      <td>0</td>\n",
              "      <td>3</td>\n",
              "      <td>3</td>\n",
              "      <td>0</td>\n",
              "      <td>3</td>\n",
              "      <td>3</td>\n",
              "      <td>3</td>\n",
              "      <td>3</td>\n",
              "      <td>0</td>\n",
              "      <td>0</td>\n",
              "      <td>0</td>\n",
              "      <td>0</td>\n",
              "      <td>0</td>\n",
              "      <td>0</td>\n",
              "      <td>0</td>\n",
              "      <td>3</td>\n",
              "      <td>0</td>\n",
              "      <td>0</td>\n",
              "      <td>0</td>\n",
              "      <td>...</td>\n",
              "      <td>0</td>\n",
              "      <td>0</td>\n",
              "      <td>6</td>\n",
              "      <td>0</td>\n",
              "      <td>0</td>\n",
              "      <td>0</td>\n",
              "      <td>0</td>\n",
              "      <td>0</td>\n",
              "      <td>0</td>\n",
              "      <td>3</td>\n",
              "      <td>0</td>\n",
              "      <td>0</td>\n",
              "      <td>3</td>\n",
              "      <td>0</td>\n",
              "      <td>1</td>\n",
              "      <td>0</td>\n",
              "      <td>1</td>\n",
              "      <td>3</td>\n",
              "      <td>0</td>\n",
              "      <td>0</td>\n",
              "      <td>0</td>\n",
              "      <td>0</td>\n",
              "      <td>0</td>\n",
              "      <td>0</td>\n",
              "      <td>0</td>\n",
              "      <td>0</td>\n",
              "      <td>3</td>\n",
              "      <td>1</td>\n",
              "      <td>0</td>\n",
              "      <td>0</td>\n",
              "      <td>0</td>\n",
              "      <td>0</td>\n",
              "      <td>0</td>\n",
              "      <td>0</td>\n",
              "      <td>0</td>\n",
              "      <td>0</td>\n",
              "      <td>0</td>\n",
              "      <td>0</td>\n",
              "      <td>0</td>\n",
              "      <td>0</td>\n",
              "    </tr>\n",
              "    <tr>\n",
              "      <th>6</th>\n",
              "      <td>72859758335309</td>\n",
              "      <td>Normal</td>\n",
              "      <td>6</td>\n",
              "      <td>0</td>\n",
              "      <td>3</td>\n",
              "      <td>1</td>\n",
              "      <td>0</td>\n",
              "      <td>0</td>\n",
              "      <td>22</td>\n",
              "      <td>19</td>\n",
              "      <td>0</td>\n",
              "      <td>3</td>\n",
              "      <td>0</td>\n",
              "      <td>0</td>\n",
              "      <td>0</td>\n",
              "      <td>0</td>\n",
              "      <td>0</td>\n",
              "      <td>0</td>\n",
              "      <td>0</td>\n",
              "      <td>0</td>\n",
              "      <td>0</td>\n",
              "      <td>0</td>\n",
              "      <td>3</td>\n",
              "      <td>3</td>\n",
              "      <td>0</td>\n",
              "      <td>3</td>\n",
              "      <td>3</td>\n",
              "      <td>3</td>\n",
              "      <td>3</td>\n",
              "      <td>0</td>\n",
              "      <td>0</td>\n",
              "      <td>0</td>\n",
              "      <td>0</td>\n",
              "      <td>0</td>\n",
              "      <td>0</td>\n",
              "      <td>0</td>\n",
              "      <td>3</td>\n",
              "      <td>0</td>\n",
              "      <td>0</td>\n",
              "      <td>0</td>\n",
              "      <td>...</td>\n",
              "      <td>0</td>\n",
              "      <td>0</td>\n",
              "      <td>6</td>\n",
              "      <td>0</td>\n",
              "      <td>0</td>\n",
              "      <td>0</td>\n",
              "      <td>0</td>\n",
              "      <td>0</td>\n",
              "      <td>0</td>\n",
              "      <td>3</td>\n",
              "      <td>0</td>\n",
              "      <td>0</td>\n",
              "      <td>3</td>\n",
              "      <td>0</td>\n",
              "      <td>1</td>\n",
              "      <td>0</td>\n",
              "      <td>1</td>\n",
              "      <td>3</td>\n",
              "      <td>0</td>\n",
              "      <td>0</td>\n",
              "      <td>0</td>\n",
              "      <td>0</td>\n",
              "      <td>0</td>\n",
              "      <td>0</td>\n",
              "      <td>0</td>\n",
              "      <td>0</td>\n",
              "      <td>3</td>\n",
              "      <td>1</td>\n",
              "      <td>0</td>\n",
              "      <td>0</td>\n",
              "      <td>0</td>\n",
              "      <td>0</td>\n",
              "      <td>0</td>\n",
              "      <td>0</td>\n",
              "      <td>0</td>\n",
              "      <td>0</td>\n",
              "      <td>0</td>\n",
              "      <td>0</td>\n",
              "      <td>0</td>\n",
              "      <td>0</td>\n",
              "    </tr>\n",
              "    <tr>\n",
              "      <th>7</th>\n",
              "      <td>78222097481044</td>\n",
              "      <td>Normal</td>\n",
              "      <td>3</td>\n",
              "      <td>0</td>\n",
              "      <td>3</td>\n",
              "      <td>1</td>\n",
              "      <td>0</td>\n",
              "      <td>0</td>\n",
              "      <td>13</td>\n",
              "      <td>13</td>\n",
              "      <td>0</td>\n",
              "      <td>3</td>\n",
              "      <td>0</td>\n",
              "      <td>0</td>\n",
              "      <td>0</td>\n",
              "      <td>0</td>\n",
              "      <td>0</td>\n",
              "      <td>0</td>\n",
              "      <td>0</td>\n",
              "      <td>0</td>\n",
              "      <td>0</td>\n",
              "      <td>0</td>\n",
              "      <td>0</td>\n",
              "      <td>0</td>\n",
              "      <td>0</td>\n",
              "      <td>0</td>\n",
              "      <td>0</td>\n",
              "      <td>3</td>\n",
              "      <td>0</td>\n",
              "      <td>0</td>\n",
              "      <td>0</td>\n",
              "      <td>0</td>\n",
              "      <td>0</td>\n",
              "      <td>0</td>\n",
              "      <td>0</td>\n",
              "      <td>0</td>\n",
              "      <td>0</td>\n",
              "      <td>0</td>\n",
              "      <td>0</td>\n",
              "      <td>0</td>\n",
              "      <td>...</td>\n",
              "      <td>0</td>\n",
              "      <td>0</td>\n",
              "      <td>6</td>\n",
              "      <td>0</td>\n",
              "      <td>0</td>\n",
              "      <td>0</td>\n",
              "      <td>0</td>\n",
              "      <td>0</td>\n",
              "      <td>0</td>\n",
              "      <td>3</td>\n",
              "      <td>0</td>\n",
              "      <td>0</td>\n",
              "      <td>0</td>\n",
              "      <td>0</td>\n",
              "      <td>1</td>\n",
              "      <td>0</td>\n",
              "      <td>1</td>\n",
              "      <td>3</td>\n",
              "      <td>0</td>\n",
              "      <td>0</td>\n",
              "      <td>0</td>\n",
              "      <td>0</td>\n",
              "      <td>0</td>\n",
              "      <td>0</td>\n",
              "      <td>0</td>\n",
              "      <td>0</td>\n",
              "      <td>3</td>\n",
              "      <td>1</td>\n",
              "      <td>0</td>\n",
              "      <td>0</td>\n",
              "      <td>0</td>\n",
              "      <td>0</td>\n",
              "      <td>0</td>\n",
              "      <td>0</td>\n",
              "      <td>0</td>\n",
              "      <td>0</td>\n",
              "      <td>0</td>\n",
              "      <td>0</td>\n",
              "      <td>0</td>\n",
              "      <td>0</td>\n",
              "    </tr>\n",
              "    <tr>\n",
              "      <th>8</th>\n",
              "      <td>97457323857639</td>\n",
              "      <td>Normal</td>\n",
              "      <td>3</td>\n",
              "      <td>0</td>\n",
              "      <td>3</td>\n",
              "      <td>1</td>\n",
              "      <td>0</td>\n",
              "      <td>0</td>\n",
              "      <td>13</td>\n",
              "      <td>13</td>\n",
              "      <td>0</td>\n",
              "      <td>3</td>\n",
              "      <td>0</td>\n",
              "      <td>0</td>\n",
              "      <td>0</td>\n",
              "      <td>0</td>\n",
              "      <td>0</td>\n",
              "      <td>0</td>\n",
              "      <td>0</td>\n",
              "      <td>0</td>\n",
              "      <td>0</td>\n",
              "      <td>0</td>\n",
              "      <td>0</td>\n",
              "      <td>0</td>\n",
              "      <td>0</td>\n",
              "      <td>0</td>\n",
              "      <td>0</td>\n",
              "      <td>3</td>\n",
              "      <td>0</td>\n",
              "      <td>0</td>\n",
              "      <td>0</td>\n",
              "      <td>0</td>\n",
              "      <td>0</td>\n",
              "      <td>0</td>\n",
              "      <td>0</td>\n",
              "      <td>0</td>\n",
              "      <td>0</td>\n",
              "      <td>0</td>\n",
              "      <td>0</td>\n",
              "      <td>0</td>\n",
              "      <td>...</td>\n",
              "      <td>0</td>\n",
              "      <td>0</td>\n",
              "      <td>6</td>\n",
              "      <td>0</td>\n",
              "      <td>0</td>\n",
              "      <td>0</td>\n",
              "      <td>0</td>\n",
              "      <td>0</td>\n",
              "      <td>0</td>\n",
              "      <td>3</td>\n",
              "      <td>0</td>\n",
              "      <td>0</td>\n",
              "      <td>0</td>\n",
              "      <td>0</td>\n",
              "      <td>1</td>\n",
              "      <td>0</td>\n",
              "      <td>1</td>\n",
              "      <td>3</td>\n",
              "      <td>0</td>\n",
              "      <td>0</td>\n",
              "      <td>0</td>\n",
              "      <td>0</td>\n",
              "      <td>0</td>\n",
              "      <td>0</td>\n",
              "      <td>0</td>\n",
              "      <td>0</td>\n",
              "      <td>3</td>\n",
              "      <td>1</td>\n",
              "      <td>0</td>\n",
              "      <td>0</td>\n",
              "      <td>0</td>\n",
              "      <td>0</td>\n",
              "      <td>0</td>\n",
              "      <td>0</td>\n",
              "      <td>0</td>\n",
              "      <td>0</td>\n",
              "      <td>0</td>\n",
              "      <td>0</td>\n",
              "      <td>0</td>\n",
              "      <td>0</td>\n",
              "    </tr>\n",
              "    <tr>\n",
              "      <th>9</th>\n",
              "      <td>99286907018543</td>\n",
              "      <td>Normal</td>\n",
              "      <td>3</td>\n",
              "      <td>0</td>\n",
              "      <td>3</td>\n",
              "      <td>1</td>\n",
              "      <td>0</td>\n",
              "      <td>0</td>\n",
              "      <td>13</td>\n",
              "      <td>13</td>\n",
              "      <td>0</td>\n",
              "      <td>3</td>\n",
              "      <td>0</td>\n",
              "      <td>0</td>\n",
              "      <td>0</td>\n",
              "      <td>0</td>\n",
              "      <td>0</td>\n",
              "      <td>0</td>\n",
              "      <td>0</td>\n",
              "      <td>0</td>\n",
              "      <td>0</td>\n",
              "      <td>0</td>\n",
              "      <td>0</td>\n",
              "      <td>0</td>\n",
              "      <td>0</td>\n",
              "      <td>0</td>\n",
              "      <td>0</td>\n",
              "      <td>3</td>\n",
              "      <td>0</td>\n",
              "      <td>0</td>\n",
              "      <td>0</td>\n",
              "      <td>0</td>\n",
              "      <td>0</td>\n",
              "      <td>0</td>\n",
              "      <td>0</td>\n",
              "      <td>0</td>\n",
              "      <td>0</td>\n",
              "      <td>0</td>\n",
              "      <td>0</td>\n",
              "      <td>0</td>\n",
              "      <td>...</td>\n",
              "      <td>0</td>\n",
              "      <td>0</td>\n",
              "      <td>6</td>\n",
              "      <td>0</td>\n",
              "      <td>0</td>\n",
              "      <td>0</td>\n",
              "      <td>0</td>\n",
              "      <td>0</td>\n",
              "      <td>0</td>\n",
              "      <td>3</td>\n",
              "      <td>0</td>\n",
              "      <td>0</td>\n",
              "      <td>0</td>\n",
              "      <td>0</td>\n",
              "      <td>1</td>\n",
              "      <td>0</td>\n",
              "      <td>1</td>\n",
              "      <td>3</td>\n",
              "      <td>0</td>\n",
              "      <td>0</td>\n",
              "      <td>0</td>\n",
              "      <td>0</td>\n",
              "      <td>0</td>\n",
              "      <td>0</td>\n",
              "      <td>0</td>\n",
              "      <td>0</td>\n",
              "      <td>3</td>\n",
              "      <td>1</td>\n",
              "      <td>0</td>\n",
              "      <td>0</td>\n",
              "      <td>0</td>\n",
              "      <td>0</td>\n",
              "      <td>0</td>\n",
              "      <td>0</td>\n",
              "      <td>0</td>\n",
              "      <td>0</td>\n",
              "      <td>0</td>\n",
              "      <td>0</td>\n",
              "      <td>0</td>\n",
              "      <td>0</td>\n",
              "    </tr>\n",
              "  </tbody>\n",
              "</table>\n",
              "<p>10 rows × 132 columns</p>\n",
              "</div>"
            ],
            "text/plain": [
              "          BlockId   Label  added  adding  ...  writer  writing  written  xml\n",
              "0  24807389905763  Normal      6       0  ...       0        0        0    0\n",
              "1  27644297472372  Normal      6       0  ...       0        0        0    0\n",
              "2  33380551139732  Normal      6       0  ...       0        0        0    0\n",
              "3  35641716531335  Normal      6       0  ...       0        0        0    0\n",
              "4  40083153975957  Normal      6       0  ...       0        0        0    0\n",
              "5  72472557232301  Normal      6       0  ...       0        0        0    0\n",
              "6  72859758335309  Normal      6       0  ...       0        0        0    0\n",
              "7  78222097481044  Normal      3       0  ...       0        0        0    0\n",
              "8  97457323857639  Normal      3       0  ...       0        0        0    0\n",
              "9  99286907018543  Normal      3       0  ...       0        0        0    0\n",
              "\n",
              "[10 rows x 132 columns]"
            ]
          },
          "metadata": {
            "tags": []
          },
          "execution_count": 28
        }
      ]
    },
    {
      "cell_type": "code",
      "metadata": {
        "id": "JPYwd5vrkhzJ"
      },
      "source": [
        "label_col = {'Normal': 1, 'Anomaly': 0}\n",
        "\n",
        "data_dtm.Label = [label_col[item] for item in data_dtm.Label]"
      ],
      "execution_count": 29,
      "outputs": []
    },
    {
      "cell_type": "code",
      "metadata": {
        "id": "n7poL3l-uCwZ"
      },
      "source": [
        "y = data_dtm.iloc[:, 2]\n",
        "X = data_dtm.iloc[:, 3:]"
      ],
      "execution_count": 30,
      "outputs": []
    }
  ]
}