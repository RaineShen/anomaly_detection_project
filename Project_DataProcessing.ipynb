{
  "nbformat": 4,
  "nbformat_minor": 0,
  "metadata": {
    "colab": {
      "name": "Project_DataProcessing.ipynb",
      "provenance": [],
      "collapsed_sections": []
    },
    "kernelspec": {
      "name": "python3",
      "display_name": "Python 3"
    },
    "language_info": {
      "name": "python"
    },
    "accelerator": "GPU"
  },
  "cells": [
    {
      "cell_type": "code",
      "metadata": {
        "id": "gba8WjNNxgoD"
      },
      "source": [
        "import tarfile\n",
        "import codecs\n",
        "import numpy as np \n",
        "import pandas as pd\n",
        "from io import BytesIO\n",
        "import json"
      ],
      "execution_count": null,
      "outputs": []
    },
    {
      "cell_type": "markdown",
      "metadata": {
        "id": "FU5ZlbM3EKf8"
      },
      "source": [
        "# New Section"
      ]
    },
    {
      "cell_type": "code",
      "metadata": {
        "colab": {
          "base_uri": "https://localhost:8080/"
        },
        "id": "O5H9beeIIqWj",
        "outputId": "d313ef1c-70d1-4eeb-ffa5-fa756a315139"
      },
      "source": [
        "from google.colab import drive\n",
        "drive.mount('/content/data586')"
      ],
      "execution_count": null,
      "outputs": [
        {
          "output_type": "stream",
          "text": [
            "Drive already mounted at /content/data586; to attempt to forcibly remount, call drive.mount(\"/content/data586\", force_remount=True).\n"
          ],
          "name": "stdout"
        }
      ]
    },
    {
      "cell_type": "code",
      "metadata": {
        "id": "EeKArv-px7Z4"
      },
      "source": [
        "with open('/content/data586/MyDrive/DATA586/HDFS.log') as f:\n",
        "    data = f.readlines()"
      ],
      "execution_count": null,
      "outputs": []
    },
    {
      "cell_type": "code",
      "metadata": {
        "id": "mpWGJsL0HlVt"
      },
      "source": [
        "# data for testing\n",
        "with open('/content/hadoop-hdfs-datanode-mesos-16.log') as f:\n",
        "    data = f.readlines()"
      ],
      "execution_count": null,
      "outputs": []
    },
    {
      "cell_type": "code",
      "metadata": {
        "id": "dHkCcJX92bxW"
      },
      "source": [
        "log = [t.strip() for t in data]"
      ],
      "execution_count": null,
      "outputs": []
    },
    {
      "cell_type": "code",
      "metadata": {
        "colab": {
          "base_uri": "https://localhost:8080/"
        },
        "id": "GCvUbWkzKAtx",
        "outputId": "813cd27e-fd27-4fdf-ab8a-39945ceccaf4"
      },
      "source": [
        "log[0:20]"
      ],
      "execution_count": null,
      "outputs": [
        {
          "output_type": "execute_result",
          "data": {
            "text/plain": [
              "['081109 203518 143 INFO dfs.DataNode$DataXceiver: Receiving block blk_-1608999687919862906 src: /10.250.19.102:54106 dest: /10.250.19.102:50010',\n",
              " '081109 203518 35 INFO dfs.FSNamesystem: BLOCK* NameSystem.allocateBlock: /mnt/hadoop/mapred/system/job_200811092030_0001/job.jar. blk_-1608999687919862906',\n",
              " '081109 203519 143 INFO dfs.DataNode$DataXceiver: Receiving block blk_-1608999687919862906 src: /10.250.10.6:40524 dest: /10.250.10.6:50010',\n",
              " '081109 203519 145 INFO dfs.DataNode$DataXceiver: Receiving block blk_-1608999687919862906 src: /10.250.14.224:42420 dest: /10.250.14.224:50010',\n",
              " '081109 203519 145 INFO dfs.DataNode$PacketResponder: PacketResponder 1 for block blk_-1608999687919862906 terminating',\n",
              " '081109 203519 145 INFO dfs.DataNode$PacketResponder: PacketResponder 2 for block blk_-1608999687919862906 terminating',\n",
              " '081109 203519 145 INFO dfs.DataNode$PacketResponder: Received block blk_-1608999687919862906 of size 91178 from /10.250.10.6',\n",
              " '081109 203519 145 INFO dfs.DataNode$PacketResponder: Received block blk_-1608999687919862906 of size 91178 from /10.250.19.102',\n",
              " '081109 203519 147 INFO dfs.DataNode$PacketResponder: PacketResponder 0 for block blk_-1608999687919862906 terminating',\n",
              " '081109 203519 147 INFO dfs.DataNode$PacketResponder: Received block blk_-1608999687919862906 of size 91178 from /10.250.14.224',\n",
              " '081109 203519 29 INFO dfs.FSNamesystem: BLOCK* NameSystem.addStoredBlock: blockMap updated: 10.250.10.6:50010 is added to blk_-1608999687919862906 size 91178',\n",
              " '081109 203519 30 INFO dfs.FSNamesystem: BLOCK* NameSystem.addStoredBlock: blockMap updated: 10.251.111.209:50010 is added to blk_-1608999687919862906 size 91178',\n",
              " '081109 203519 31 INFO dfs.FSNamesystem: BLOCK* NameSystem.addStoredBlock: blockMap updated: 10.250.14.224:50010 is added to blk_-1608999687919862906 size 91178',\n",
              " '081109 203520 142 INFO dfs.DataNode$DataXceiver: Receiving block blk_7503483334202473044 src: /10.251.215.16:55695 dest: /10.251.215.16:50010',\n",
              " '081109 203520 145 INFO dfs.DataNode$DataXceiver: Receiving block blk_7503483334202473044 src: /10.250.19.102:34232 dest: /10.250.19.102:50010',\n",
              " '081109 203520 26 INFO dfs.FSNamesystem: BLOCK* NameSystem.allocateBlock: /mnt/hadoop/mapred/system/job_200811092030_0001/job.split. blk_7503483334202473044',\n",
              " '081109 203521 143 INFO dfs.DataNode$DataXceiver: Received block blk_-1608999687919862906 src: /10.251.215.16:52002 dest: /10.251.215.16:50010 of size 91178',\n",
              " '081109 203521 143 INFO dfs.DataNode$DataXceiver: Receiving block blk_-1608999687919862906 src: /10.251.215.16:52002 dest: /10.251.215.16:50010',\n",
              " '081109 203521 144 INFO dfs.DataNode$DataXceiver: Receiving block blk_7503483334202473044 src: /10.251.71.16:51590 dest: /10.251.71.16:50010',\n",
              " '081109 203521 145 INFO dfs.DataNode$DataXceiver: Receiving block blk_-3544583377289625738 src: /10.250.19.102:39325 dest: /10.250.19.102:50010']"
            ]
          },
          "metadata": {
            "tags": []
          },
          "execution_count": 6
        }
      ]
    },
    {
      "cell_type": "code",
      "metadata": {
        "colab": {
          "base_uri": "https://localhost:8080/"
        },
        "id": "eUUImOoFMBG_",
        "outputId": "6d732d2c-761a-48cd-add9-a1429238c3e6"
      },
      "source": [
        "for line in log[0:10]:\n",
        "  s1=line.split(' ')[0].strip()\n",
        "  s2=line.split(' ')[1].strip()\n",
        "  s3=line.split(' ')[2].strip()\n",
        "  s4=line.split(' ')[3].strip()\n",
        "  s5=line.split(' ')[4].strip(': ')\n",
        "  s6=line.split(' ')[5:]\n",
        "  # ' '.join(s6)\n",
        "  print(' '.join(s6))"
      ],
      "execution_count": null,
      "outputs": [
        {
          "output_type": "stream",
          "text": [
            "Receiving block blk_-1608999687919862906 src: /10.250.19.102:54106 dest: /10.250.19.102:50010\n",
            "BLOCK* NameSystem.allocateBlock: /mnt/hadoop/mapred/system/job_200811092030_0001/job.jar. blk_-1608999687919862906\n",
            "Receiving block blk_-1608999687919862906 src: /10.250.10.6:40524 dest: /10.250.10.6:50010\n",
            "Receiving block blk_-1608999687919862906 src: /10.250.14.224:42420 dest: /10.250.14.224:50010\n",
            "PacketResponder 1 for block blk_-1608999687919862906 terminating\n",
            "PacketResponder 2 for block blk_-1608999687919862906 terminating\n",
            "Received block blk_-1608999687919862906 of size 91178 from /10.250.10.6\n",
            "Received block blk_-1608999687919862906 of size 91178 from /10.250.19.102\n",
            "PacketResponder 0 for block blk_-1608999687919862906 terminating\n",
            "Received block blk_-1608999687919862906 of size 91178 from /10.250.14.224\n"
          ],
          "name": "stdout"
        }
      ]
    },
    {
      "cell_type": "code",
      "metadata": {
        "id": "2lm53sNFKUr-"
      },
      "source": [
        "Date = []\n",
        "Time = []\n",
        "Pid = []\n",
        "Level = []\n",
        "Component = []\n",
        "Content = []"
      ],
      "execution_count": null,
      "outputs": []
    },
    {
      "cell_type": "code",
      "metadata": {
        "colab": {
          "base_uri": "https://localhost:8080/"
        },
        "id": "6tMa4mY6rWR6",
        "outputId": "3aa27e32-1ec0-4102-c58a-c5617df797de"
      },
      "source": [
        "len(log)/2"
      ],
      "execution_count": null,
      "outputs": [
        {
          "output_type": "execute_result",
          "data": {
            "text/plain": [
              "5587814.5"
            ]
          },
          "metadata": {
            "tags": []
          },
          "execution_count": 7
        }
      ]
    },
    {
      "cell_type": "code",
      "metadata": {
        "id": "kb4Y0jJJLbKU"
      },
      "source": [
        "for line in log:\n",
        "  s1=line.split(' ')[0].strip()\n",
        "  Date.append(s1)\n",
        "  s2=line.split(' ')[1].strip()\n",
        "  Time.append(s2)\n",
        "  s3=line.split(' ')[2].strip()\n",
        "  Pid.append(s3)\n",
        "  s4=line.split(' ')[3].strip()\n",
        "  Level.append(s4)\n",
        "  s5=line.split(' ')[4].strip(': ')\n",
        "  Component.append(s5)\n",
        "  s6=line.split(' ')[5:]\n",
        "  Content.append(' '.join(s6))\n"
      ],
      "execution_count": null,
      "outputs": []
    },
    {
      "cell_type": "code",
      "metadata": {
        "id": "GfwTCutyS0-T"
      },
      "source": [
        "df = pd.DataFrame([Date, Time, Pid, Level, Component, Content])\n",
        "df = df.T\n",
        "df.columns=['Date','Time', 'Pid', 'Level', 'Component', 'Content']"
      ],
      "execution_count": null,
      "outputs": []
    },
    {
      "cell_type": "code",
      "metadata": {
        "colab": {
          "base_uri": "https://localhost:8080/",
          "height": 204
        },
        "id": "WcR43yWsZNfn",
        "outputId": "7416f0b4-b77d-4758-e4b1-b779e8d1677d"
      },
      "source": [
        "df.head()"
      ],
      "execution_count": null,
      "outputs": [
        {
          "output_type": "execute_result",
          "data": {
            "text/html": [
              "<div>\n",
              "<style scoped>\n",
              "    .dataframe tbody tr th:only-of-type {\n",
              "        vertical-align: middle;\n",
              "    }\n",
              "\n",
              "    .dataframe tbody tr th {\n",
              "        vertical-align: top;\n",
              "    }\n",
              "\n",
              "    .dataframe thead th {\n",
              "        text-align: right;\n",
              "    }\n",
              "</style>\n",
              "<table border=\"1\" class=\"dataframe\">\n",
              "  <thead>\n",
              "    <tr style=\"text-align: right;\">\n",
              "      <th></th>\n",
              "      <th>Date</th>\n",
              "      <th>Time</th>\n",
              "      <th>Pid</th>\n",
              "      <th>Level</th>\n",
              "      <th>Component</th>\n",
              "      <th>Content</th>\n",
              "    </tr>\n",
              "  </thead>\n",
              "  <tbody>\n",
              "    <tr>\n",
              "      <th>0</th>\n",
              "      <td>081109</td>\n",
              "      <td>203518</td>\n",
              "      <td>143</td>\n",
              "      <td>INFO</td>\n",
              "      <td>dfs.DataNode$DataXceiver</td>\n",
              "      <td>Receiving block blk_-1608999687919862906 src: ...</td>\n",
              "    </tr>\n",
              "    <tr>\n",
              "      <th>1</th>\n",
              "      <td>081109</td>\n",
              "      <td>203518</td>\n",
              "      <td>35</td>\n",
              "      <td>INFO</td>\n",
              "      <td>dfs.FSNamesystem</td>\n",
              "      <td>BLOCK* NameSystem.allocateBlock: /mnt/hadoop/m...</td>\n",
              "    </tr>\n",
              "    <tr>\n",
              "      <th>2</th>\n",
              "      <td>081109</td>\n",
              "      <td>203519</td>\n",
              "      <td>143</td>\n",
              "      <td>INFO</td>\n",
              "      <td>dfs.DataNode$DataXceiver</td>\n",
              "      <td>Receiving block blk_-1608999687919862906 src: ...</td>\n",
              "    </tr>\n",
              "    <tr>\n",
              "      <th>3</th>\n",
              "      <td>081109</td>\n",
              "      <td>203519</td>\n",
              "      <td>145</td>\n",
              "      <td>INFO</td>\n",
              "      <td>dfs.DataNode$DataXceiver</td>\n",
              "      <td>Receiving block blk_-1608999687919862906 src: ...</td>\n",
              "    </tr>\n",
              "    <tr>\n",
              "      <th>4</th>\n",
              "      <td>081109</td>\n",
              "      <td>203519</td>\n",
              "      <td>145</td>\n",
              "      <td>INFO</td>\n",
              "      <td>dfs.DataNode$PacketResponder</td>\n",
              "      <td>PacketResponder 1 for block blk_-1608999687919...</td>\n",
              "    </tr>\n",
              "  </tbody>\n",
              "</table>\n",
              "</div>"
            ],
            "text/plain": [
              "     Date  ...                                            Content\n",
              "0  081109  ...  Receiving block blk_-1608999687919862906 src: ...\n",
              "1  081109  ...  BLOCK* NameSystem.allocateBlock: /mnt/hadoop/m...\n",
              "2  081109  ...  Receiving block blk_-1608999687919862906 src: ...\n",
              "3  081109  ...  Receiving block blk_-1608999687919862906 src: ...\n",
              "4  081109  ...  PacketResponder 1 for block blk_-1608999687919...\n",
              "\n",
              "[5 rows x 6 columns]"
            ]
          },
          "metadata": {
            "tags": []
          },
          "execution_count": 52
        }
      ]
    },
    {
      "cell_type": "code",
      "metadata": {
        "colab": {
          "base_uri": "https://localhost:8080/",
          "height": 359
        },
        "id": "n6Xqvsjii4ps",
        "outputId": "d8ca1a59-980d-47df-be20-c54cffdde0df"
      },
      "source": [
        "df['BlockId'] = df.Content.str.extract(r'(?:blk_-)(\\d+)')\n",
        "df.head(10)"
      ],
      "execution_count": null,
      "outputs": [
        {
          "output_type": "execute_result",
          "data": {
            "text/html": [
              "<div>\n",
              "<style scoped>\n",
              "    .dataframe tbody tr th:only-of-type {\n",
              "        vertical-align: middle;\n",
              "    }\n",
              "\n",
              "    .dataframe tbody tr th {\n",
              "        vertical-align: top;\n",
              "    }\n",
              "\n",
              "    .dataframe thead th {\n",
              "        text-align: right;\n",
              "    }\n",
              "</style>\n",
              "<table border=\"1\" class=\"dataframe\">\n",
              "  <thead>\n",
              "    <tr style=\"text-align: right;\">\n",
              "      <th></th>\n",
              "      <th>Date</th>\n",
              "      <th>Time</th>\n",
              "      <th>Pid</th>\n",
              "      <th>Level</th>\n",
              "      <th>Component</th>\n",
              "      <th>Content</th>\n",
              "      <th>BlockId</th>\n",
              "    </tr>\n",
              "  </thead>\n",
              "  <tbody>\n",
              "    <tr>\n",
              "      <th>0</th>\n",
              "      <td>081109</td>\n",
              "      <td>203518</td>\n",
              "      <td>143</td>\n",
              "      <td>INFO</td>\n",
              "      <td>dfs.DataNode$DataXceiver</td>\n",
              "      <td>Receiving block blk_-1608999687919862906 src: ...</td>\n",
              "      <td>1608999687919862906</td>\n",
              "    </tr>\n",
              "    <tr>\n",
              "      <th>1</th>\n",
              "      <td>081109</td>\n",
              "      <td>203518</td>\n",
              "      <td>35</td>\n",
              "      <td>INFO</td>\n",
              "      <td>dfs.FSNamesystem</td>\n",
              "      <td>BLOCK* NameSystem.allocateBlock: /mnt/hadoop/m...</td>\n",
              "      <td>1608999687919862906</td>\n",
              "    </tr>\n",
              "    <tr>\n",
              "      <th>2</th>\n",
              "      <td>081109</td>\n",
              "      <td>203519</td>\n",
              "      <td>143</td>\n",
              "      <td>INFO</td>\n",
              "      <td>dfs.DataNode$DataXceiver</td>\n",
              "      <td>Receiving block blk_-1608999687919862906 src: ...</td>\n",
              "      <td>1608999687919862906</td>\n",
              "    </tr>\n",
              "    <tr>\n",
              "      <th>3</th>\n",
              "      <td>081109</td>\n",
              "      <td>203519</td>\n",
              "      <td>145</td>\n",
              "      <td>INFO</td>\n",
              "      <td>dfs.DataNode$DataXceiver</td>\n",
              "      <td>Receiving block blk_-1608999687919862906 src: ...</td>\n",
              "      <td>1608999687919862906</td>\n",
              "    </tr>\n",
              "    <tr>\n",
              "      <th>4</th>\n",
              "      <td>081109</td>\n",
              "      <td>203519</td>\n",
              "      <td>145</td>\n",
              "      <td>INFO</td>\n",
              "      <td>dfs.DataNode$PacketResponder</td>\n",
              "      <td>PacketResponder 1 for block blk_-1608999687919...</td>\n",
              "      <td>1608999687919862906</td>\n",
              "    </tr>\n",
              "    <tr>\n",
              "      <th>5</th>\n",
              "      <td>081109</td>\n",
              "      <td>203519</td>\n",
              "      <td>145</td>\n",
              "      <td>INFO</td>\n",
              "      <td>dfs.DataNode$PacketResponder</td>\n",
              "      <td>PacketResponder 2 for block blk_-1608999687919...</td>\n",
              "      <td>1608999687919862906</td>\n",
              "    </tr>\n",
              "    <tr>\n",
              "      <th>6</th>\n",
              "      <td>081109</td>\n",
              "      <td>203519</td>\n",
              "      <td>145</td>\n",
              "      <td>INFO</td>\n",
              "      <td>dfs.DataNode$PacketResponder</td>\n",
              "      <td>Received block blk_-1608999687919862906 of siz...</td>\n",
              "      <td>1608999687919862906</td>\n",
              "    </tr>\n",
              "    <tr>\n",
              "      <th>7</th>\n",
              "      <td>081109</td>\n",
              "      <td>203519</td>\n",
              "      <td>145</td>\n",
              "      <td>INFO</td>\n",
              "      <td>dfs.DataNode$PacketResponder</td>\n",
              "      <td>Received block blk_-1608999687919862906 of siz...</td>\n",
              "      <td>1608999687919862906</td>\n",
              "    </tr>\n",
              "    <tr>\n",
              "      <th>8</th>\n",
              "      <td>081109</td>\n",
              "      <td>203519</td>\n",
              "      <td>147</td>\n",
              "      <td>INFO</td>\n",
              "      <td>dfs.DataNode$PacketResponder</td>\n",
              "      <td>PacketResponder 0 for block blk_-1608999687919...</td>\n",
              "      <td>1608999687919862906</td>\n",
              "    </tr>\n",
              "    <tr>\n",
              "      <th>9</th>\n",
              "      <td>081109</td>\n",
              "      <td>203519</td>\n",
              "      <td>147</td>\n",
              "      <td>INFO</td>\n",
              "      <td>dfs.DataNode$PacketResponder</td>\n",
              "      <td>Received block blk_-1608999687919862906 of siz...</td>\n",
              "      <td>1608999687919862906</td>\n",
              "    </tr>\n",
              "  </tbody>\n",
              "</table>\n",
              "</div>"
            ],
            "text/plain": [
              "     Date  ...              BlockId\n",
              "0  081109  ...  1608999687919862906\n",
              "1  081109  ...  1608999687919862906\n",
              "2  081109  ...  1608999687919862906\n",
              "3  081109  ...  1608999687919862906\n",
              "4  081109  ...  1608999687919862906\n",
              "5  081109  ...  1608999687919862906\n",
              "6  081109  ...  1608999687919862906\n",
              "7  081109  ...  1608999687919862906\n",
              "8  081109  ...  1608999687919862906\n",
              "9  081109  ...  1608999687919862906\n",
              "\n",
              "[10 rows x 7 columns]"
            ]
          },
          "metadata": {
            "tags": []
          },
          "execution_count": 61
        }
      ]
    },
    {
      "cell_type": "code",
      "metadata": {
        "id": "iWqikkbcT2-I"
      },
      "source": [
        "df.to_csv('structured_log2.csv', index=False)"
      ],
      "execution_count": null,
      "outputs": []
    },
    {
      "cell_type": "code",
      "metadata": {
        "id": "L2mjBlo4tavz"
      },
      "source": [
        "df1 = pd.read_csv('/content/structured_log.csv')\n",
        "df2 = pd.read_csv('/content/structured_log2.csv')"
      ],
      "execution_count": null,
      "outputs": []
    },
    {
      "cell_type": "code",
      "metadata": {
        "id": "a5RWYMdr5CY2"
      },
      "source": [
        "df1['BlockId'] = df1.Content.str.extract(r'(?:blk_-)(\\d+)')\n",
        "df1['BlockId2'] = df1.Content.str.extract(r'(?:blk_)(\\d+)')\n",
        "df2['BlockId'] = df2.Content.str.extract(r'(?:blk_-)(\\d+)')\n",
        "df2['BlockId2'] = df2.Content.str.extract(r'(?:blk_)(\\d+)')"
      ],
      "execution_count": null,
      "outputs": []
    },
    {
      "cell_type": "code",
      "metadata": {
        "colab": {
          "base_uri": "https://localhost:8080/",
          "height": 289
        },
        "id": "0qt6aDMa5Lpa",
        "outputId": "471b4217-c503-4364-cfc7-3afef366f1da"
      },
      "source": [
        "df2.head()"
      ],
      "execution_count": null,
      "outputs": [
        {
          "output_type": "execute_result",
          "data": {
            "text/html": [
              "<div>\n",
              "<style scoped>\n",
              "    .dataframe tbody tr th:only-of-type {\n",
              "        vertical-align: middle;\n",
              "    }\n",
              "\n",
              "    .dataframe tbody tr th {\n",
              "        vertical-align: top;\n",
              "    }\n",
              "\n",
              "    .dataframe thead th {\n",
              "        text-align: right;\n",
              "    }\n",
              "</style>\n",
              "<table border=\"1\" class=\"dataframe\">\n",
              "  <thead>\n",
              "    <tr style=\"text-align: right;\">\n",
              "      <th></th>\n",
              "      <th>Date</th>\n",
              "      <th>Time</th>\n",
              "      <th>Pid</th>\n",
              "      <th>Level</th>\n",
              "      <th>Component</th>\n",
              "      <th>Content</th>\n",
              "      <th>BlockId</th>\n",
              "      <th>BlockId2</th>\n",
              "    </tr>\n",
              "  </thead>\n",
              "  <tbody>\n",
              "    <tr>\n",
              "      <th>0</th>\n",
              "      <td>81110</td>\n",
              "      <td>224444</td>\n",
              "      <td>16432</td>\n",
              "      <td>INFO</td>\n",
              "      <td>dfs.DataNode$PacketResponder</td>\n",
              "      <td>PacketResponder 0 for block blk_-7801768724400...</td>\n",
              "      <td>780176872440040760</td>\n",
              "      <td>NaN</td>\n",
              "    </tr>\n",
              "    <tr>\n",
              "      <th>1</th>\n",
              "      <td>81110</td>\n",
              "      <td>224444</td>\n",
              "      <td>16432</td>\n",
              "      <td>INFO</td>\n",
              "      <td>dfs.DataNode$PacketResponder</td>\n",
              "      <td>Received block blk_-780176872440040760 of size...</td>\n",
              "      <td>780176872440040760</td>\n",
              "      <td>NaN</td>\n",
              "    </tr>\n",
              "    <tr>\n",
              "      <th>2</th>\n",
              "      <td>81110</td>\n",
              "      <td>224444</td>\n",
              "      <td>16437</td>\n",
              "      <td>INFO</td>\n",
              "      <td>dfs.DataNode$PacketResponder</td>\n",
              "      <td>PacketResponder 0 for block blk_-7507061571342...</td>\n",
              "      <td>7507061571342565425</td>\n",
              "      <td>NaN</td>\n",
              "    </tr>\n",
              "    <tr>\n",
              "      <th>3</th>\n",
              "      <td>81110</td>\n",
              "      <td>224444</td>\n",
              "      <td>16437</td>\n",
              "      <td>INFO</td>\n",
              "      <td>dfs.DataNode$PacketResponder</td>\n",
              "      <td>Received block blk_-7507061571342565425 of siz...</td>\n",
              "      <td>7507061571342565425</td>\n",
              "      <td>NaN</td>\n",
              "    </tr>\n",
              "    <tr>\n",
              "      <th>4</th>\n",
              "      <td>81110</td>\n",
              "      <td>224444</td>\n",
              "      <td>16440</td>\n",
              "      <td>INFO</td>\n",
              "      <td>dfs.DataNode$PacketResponder</td>\n",
              "      <td>PacketResponder 1 for block blk_63787653562153...</td>\n",
              "      <td>NaN</td>\n",
              "      <td>637876535621538122</td>\n",
              "    </tr>\n",
              "  </tbody>\n",
              "</table>\n",
              "</div>"
            ],
            "text/plain": [
              "    Date    Time  ...              BlockId            BlockId2\n",
              "0  81110  224444  ...   780176872440040760                 NaN\n",
              "1  81110  224444  ...   780176872440040760                 NaN\n",
              "2  81110  224444  ...  7507061571342565425                 NaN\n",
              "3  81110  224444  ...  7507061571342565425                 NaN\n",
              "4  81110  224444  ...                  NaN  637876535621538122\n",
              "\n",
              "[5 rows x 8 columns]"
            ]
          },
          "metadata": {
            "tags": []
          },
          "execution_count": 5
        }
      ]
    },
    {
      "cell_type": "code",
      "metadata": {
        "id": "unEtkeLx6lLO"
      },
      "source": [
        "df1['BlockId'] = df1['BlockId'].fillna(df1['BlockId2'])\n",
        "df2['BlockId'] = df2['BlockId'].fillna(df2['BlockId2'])"
      ],
      "execution_count": null,
      "outputs": []
    },
    {
      "cell_type": "code",
      "metadata": {
        "id": "pT5zij297RLS"
      },
      "source": [
        "df1.drop('BlockId2', axis=1, inplace=True)\n",
        "df2.drop('BlockId2', axis=1, inplace=True)"
      ],
      "execution_count": null,
      "outputs": []
    },
    {
      "cell_type": "code",
      "metadata": {
        "colab": {
          "base_uri": "https://localhost:8080/",
          "height": 204
        },
        "id": "dm_B4FPC6t8C",
        "outputId": "f205cbb5-7f2c-4cc6-b692-51a645d7467d"
      },
      "source": [
        "df1.head()"
      ],
      "execution_count": null,
      "outputs": [
        {
          "output_type": "execute_result",
          "data": {
            "text/html": [
              "<div>\n",
              "<style scoped>\n",
              "    .dataframe tbody tr th:only-of-type {\n",
              "        vertical-align: middle;\n",
              "    }\n",
              "\n",
              "    .dataframe tbody tr th {\n",
              "        vertical-align: top;\n",
              "    }\n",
              "\n",
              "    .dataframe thead th {\n",
              "        text-align: right;\n",
              "    }\n",
              "</style>\n",
              "<table border=\"1\" class=\"dataframe\">\n",
              "  <thead>\n",
              "    <tr style=\"text-align: right;\">\n",
              "      <th></th>\n",
              "      <th>Date</th>\n",
              "      <th>Time</th>\n",
              "      <th>Pid</th>\n",
              "      <th>Level</th>\n",
              "      <th>Component</th>\n",
              "      <th>Content</th>\n",
              "      <th>BlockId</th>\n",
              "    </tr>\n",
              "  </thead>\n",
              "  <tbody>\n",
              "    <tr>\n",
              "      <th>0</th>\n",
              "      <td>81109</td>\n",
              "      <td>203518</td>\n",
              "      <td>143</td>\n",
              "      <td>INFO</td>\n",
              "      <td>dfs.DataNode$DataXceiver</td>\n",
              "      <td>Receiving block blk_-1608999687919862906 src: ...</td>\n",
              "      <td>1608999687919862906</td>\n",
              "    </tr>\n",
              "    <tr>\n",
              "      <th>1</th>\n",
              "      <td>81109</td>\n",
              "      <td>203518</td>\n",
              "      <td>35</td>\n",
              "      <td>INFO</td>\n",
              "      <td>dfs.FSNamesystem</td>\n",
              "      <td>BLOCK* NameSystem.allocateBlock: /mnt/hadoop/m...</td>\n",
              "      <td>1608999687919862906</td>\n",
              "    </tr>\n",
              "    <tr>\n",
              "      <th>2</th>\n",
              "      <td>81109</td>\n",
              "      <td>203519</td>\n",
              "      <td>143</td>\n",
              "      <td>INFO</td>\n",
              "      <td>dfs.DataNode$DataXceiver</td>\n",
              "      <td>Receiving block blk_-1608999687919862906 src: ...</td>\n",
              "      <td>1608999687919862906</td>\n",
              "    </tr>\n",
              "    <tr>\n",
              "      <th>3</th>\n",
              "      <td>81109</td>\n",
              "      <td>203519</td>\n",
              "      <td>145</td>\n",
              "      <td>INFO</td>\n",
              "      <td>dfs.DataNode$DataXceiver</td>\n",
              "      <td>Receiving block blk_-1608999687919862906 src: ...</td>\n",
              "      <td>1608999687919862906</td>\n",
              "    </tr>\n",
              "    <tr>\n",
              "      <th>4</th>\n",
              "      <td>81109</td>\n",
              "      <td>203519</td>\n",
              "      <td>145</td>\n",
              "      <td>INFO</td>\n",
              "      <td>dfs.DataNode$PacketResponder</td>\n",
              "      <td>PacketResponder 1 for block blk_-1608999687919...</td>\n",
              "      <td>1608999687919862906</td>\n",
              "    </tr>\n",
              "  </tbody>\n",
              "</table>\n",
              "</div>"
            ],
            "text/plain": [
              "    Date  ...              BlockId\n",
              "0  81109  ...  1608999687919862906\n",
              "1  81109  ...  1608999687919862906\n",
              "2  81109  ...  1608999687919862906\n",
              "3  81109  ...  1608999687919862906\n",
              "4  81109  ...  1608999687919862906\n",
              "\n",
              "[5 rows x 7 columns]"
            ]
          },
          "metadata": {
            "tags": []
          },
          "execution_count": 13
        }
      ]
    },
    {
      "cell_type": "code",
      "metadata": {
        "id": "klfxWZzb7-PC"
      },
      "source": [
        "df = df1.append(df2)"
      ],
      "execution_count": null,
      "outputs": []
    },
    {
      "cell_type": "code",
      "metadata": {
        "id": "eCqqm8Xq8YrD"
      },
      "source": [
        "df.to_csv('processed_log.csv', index=False)"
      ],
      "execution_count": null,
      "outputs": []
    }
  ]
}